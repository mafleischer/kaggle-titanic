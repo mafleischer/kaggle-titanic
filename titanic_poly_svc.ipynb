{
 "cells": [
  {
   "cell_type": "markdown",
   "metadata": {},
   "source": [
    "# Titanic poly svc"
   ]
  },
  {
   "cell_type": "code",
   "execution_count": 27,
   "metadata": {},
   "outputs": [],
   "source": [
    "import numpy as np\n",
    "import matplotlib as mpl\n",
    "import matplotlib.pyplot as plt\n",
    "import seaborn as sns\n",
    "import pandas as pd\n",
    "import os\n",
    "\n",
    "from sklearn.base import BaseEstimator, TransformerMixin\n",
    "from sklearn.linear_model import LinearRegression, SGDClassifier, LogisticRegression\n",
    "from sklearn.svm import LinearSVC, SVC\n",
    "from sklearn.tree import DecisionTreeClassifier\n",
    "from sklearn.ensemble import RandomForestClassifier, VotingClassifier, AdaBoostClassifier, GradientBoostingClassifier, BaggingClassifier\n",
    "from sklearn.model_selection import StratifiedShuffleSplit, StratifiedKFold, cross_val_score, cross_val_predict ,GridSearchCV\n",
    "from sklearn.model_selection import validation_curve, learning_curve\n",
    "from sklearn.preprocessing import OneHotEncoder, StandardScaler, PolynomialFeatures\n",
    "from sklearn.impute import SimpleImputer\n",
    "from sklearn.compose import ColumnTransformer\n",
    "from sklearn.pipeline import make_pipeline, Pipeline\n",
    "from sklearn.metrics import mean_squared_error, accuracy_score, confusion_matrix, precision_recall_curve, plot_precision_recall_curve\n",
    "from sklearn.metrics import precision_score, recall_score, roc_curve, roc_auc_score\n",
    "\n",
    "sns.set()\n",
    "\n",
    "# This checks if the notebook is executed on Kaggle or on your local machine and\n",
    "# acts accordingly with filenames.\n",
    "fname_train = \"train.csv\"\n",
    "fname_test = \"test.csv\"\n",
    "\n",
    "try:\n",
    "    os.environ['KAGGLE_DATA_PROXY_TOKEN']\n",
    "except KeyError:\n",
    "    pass\n",
    "else:\n",
    "    dirname = \"/kaggle/input/titanic/\"\n",
    "    fname_train = dirname + fname_train\n",
    "    fname_test = dirname + fname_test"
   ]
  },
  {
   "cell_type": "code",
   "execution_count": 28,
   "metadata": {},
   "outputs": [
    {
     "data": {
      "text/html": [
       "<div>\n",
       "<style scoped>\n",
       "    .dataframe tbody tr th:only-of-type {\n",
       "        vertical-align: middle;\n",
       "    }\n",
       "\n",
       "    .dataframe tbody tr th {\n",
       "        vertical-align: top;\n",
       "    }\n",
       "\n",
       "    .dataframe thead th {\n",
       "        text-align: right;\n",
       "    }\n",
       "</style>\n",
       "<table border=\"1\" class=\"dataframe\">\n",
       "  <thead>\n",
       "    <tr style=\"text-align: right;\">\n",
       "      <th></th>\n",
       "      <th>Survived</th>\n",
       "      <th>Pclass</th>\n",
       "      <th>Sex</th>\n",
       "      <th>Age</th>\n",
       "      <th>SibSp</th>\n",
       "      <th>Parch</th>\n",
       "      <th>Fare</th>\n",
       "    </tr>\n",
       "  </thead>\n",
       "  <tbody>\n",
       "    <tr>\n",
       "      <th>0</th>\n",
       "      <td>0</td>\n",
       "      <td>3</td>\n",
       "      <td>male</td>\n",
       "      <td>22.000000</td>\n",
       "      <td>1</td>\n",
       "      <td>0</td>\n",
       "      <td>7.2500</td>\n",
       "    </tr>\n",
       "    <tr>\n",
       "      <th>1</th>\n",
       "      <td>1</td>\n",
       "      <td>1</td>\n",
       "      <td>female</td>\n",
       "      <td>38.000000</td>\n",
       "      <td>1</td>\n",
       "      <td>0</td>\n",
       "      <td>71.2833</td>\n",
       "    </tr>\n",
       "    <tr>\n",
       "      <th>2</th>\n",
       "      <td>1</td>\n",
       "      <td>3</td>\n",
       "      <td>female</td>\n",
       "      <td>26.000000</td>\n",
       "      <td>0</td>\n",
       "      <td>0</td>\n",
       "      <td>7.9250</td>\n",
       "    </tr>\n",
       "    <tr>\n",
       "      <th>3</th>\n",
       "      <td>1</td>\n",
       "      <td>1</td>\n",
       "      <td>female</td>\n",
       "      <td>35.000000</td>\n",
       "      <td>1</td>\n",
       "      <td>0</td>\n",
       "      <td>53.1000</td>\n",
       "    </tr>\n",
       "    <tr>\n",
       "      <th>4</th>\n",
       "      <td>0</td>\n",
       "      <td>3</td>\n",
       "      <td>male</td>\n",
       "      <td>35.000000</td>\n",
       "      <td>0</td>\n",
       "      <td>0</td>\n",
       "      <td>8.0500</td>\n",
       "    </tr>\n",
       "    <tr>\n",
       "      <th>...</th>\n",
       "      <td>...</td>\n",
       "      <td>...</td>\n",
       "      <td>...</td>\n",
       "      <td>...</td>\n",
       "      <td>...</td>\n",
       "      <td>...</td>\n",
       "      <td>...</td>\n",
       "    </tr>\n",
       "    <tr>\n",
       "      <th>886</th>\n",
       "      <td>0</td>\n",
       "      <td>2</td>\n",
       "      <td>male</td>\n",
       "      <td>27.000000</td>\n",
       "      <td>0</td>\n",
       "      <td>0</td>\n",
       "      <td>13.0000</td>\n",
       "    </tr>\n",
       "    <tr>\n",
       "      <th>887</th>\n",
       "      <td>1</td>\n",
       "      <td>1</td>\n",
       "      <td>female</td>\n",
       "      <td>19.000000</td>\n",
       "      <td>0</td>\n",
       "      <td>0</td>\n",
       "      <td>30.0000</td>\n",
       "    </tr>\n",
       "    <tr>\n",
       "      <th>888</th>\n",
       "      <td>0</td>\n",
       "      <td>3</td>\n",
       "      <td>female</td>\n",
       "      <td>29.699118</td>\n",
       "      <td>1</td>\n",
       "      <td>2</td>\n",
       "      <td>23.4500</td>\n",
       "    </tr>\n",
       "    <tr>\n",
       "      <th>889</th>\n",
       "      <td>1</td>\n",
       "      <td>1</td>\n",
       "      <td>male</td>\n",
       "      <td>26.000000</td>\n",
       "      <td>0</td>\n",
       "      <td>0</td>\n",
       "      <td>30.0000</td>\n",
       "    </tr>\n",
       "    <tr>\n",
       "      <th>890</th>\n",
       "      <td>0</td>\n",
       "      <td>3</td>\n",
       "      <td>male</td>\n",
       "      <td>32.000000</td>\n",
       "      <td>0</td>\n",
       "      <td>0</td>\n",
       "      <td>7.7500</td>\n",
       "    </tr>\n",
       "  </tbody>\n",
       "</table>\n",
       "<p>891 rows × 7 columns</p>\n",
       "</div>"
      ],
      "text/plain": [
       "     Survived  Pclass     Sex        Age  SibSp  Parch     Fare\n",
       "0           0       3    male  22.000000      1      0   7.2500\n",
       "1           1       1  female  38.000000      1      0  71.2833\n",
       "2           1       3  female  26.000000      0      0   7.9250\n",
       "3           1       1  female  35.000000      1      0  53.1000\n",
       "4           0       3    male  35.000000      0      0   8.0500\n",
       "..        ...     ...     ...        ...    ...    ...      ...\n",
       "886         0       2    male  27.000000      0      0  13.0000\n",
       "887         1       1  female  19.000000      0      0  30.0000\n",
       "888         0       3  female  29.699118      1      2  23.4500\n",
       "889         1       1    male  26.000000      0      0  30.0000\n",
       "890         0       3    male  32.000000      0      0   7.7500\n",
       "\n",
       "[891 rows x 7 columns]"
      ]
     },
     "execution_count": 28,
     "metadata": {},
     "output_type": "execute_result"
    }
   ],
   "source": [
    "titanic = pd.read_csv(fname_train)\n",
    "titanic.Age.fillna(titanic.Age.mean(), inplace=True)\n",
    "\n",
    "# Pretend we already know for sure that these are unimportant:\n",
    "unnecessary = [\"PassengerId\", \"Name\",\"SibSp\",\"Parch\",\"Ticket\", \"Cabin\", \"Embarked\"]\n",
    "#unnecessary = [\"PassengerId\", \"Name\",\"Ticket\", \"Embarked\"]\n",
    "unnecessary = [\"PassengerId\", \"Name\",\"Ticket\", \"Embarked\", \"Cabin\"]\n",
    "\n",
    "titanic.drop(unnecessary, inplace=True, axis=1)\n",
    "titanic"
   ]
  },
  {
   "cell_type": "code",
   "execution_count": 29,
   "metadata": {},
   "outputs": [],
   "source": [
    "class CabinLetterOnly(BaseEstimator, TransformerMixin):\n",
    "    def __init__(self):\n",
    "        pass\n",
    "    def fit(self, X, y = None):\n",
    "        return self\n",
    "    def transform(self, X):\n",
    "        df = pd.DataFrame(X, index=titanic.index, columns=titanic.columns)\n",
    "        s_cabin_letters = df.Cabin.str.extract(\"^([A-Z]).*\", expand = False)\n",
    "        return np.c_[df.to_numpy(), s_cabin_letters]\n",
    "\n",
    "sex_pip = Pipeline([\n",
    "    ('one_hot', OneHotEncoder(categories=[titanic.Sex]))\n",
    "])\n",
    "\n",
    "fare_pip = Pipeline([\n",
    "    (\"fare_mean\", SimpleImputer(strategy=\"mean\")),\n",
    "    ('fare_std', StandardScaler())\n",
    "])\n",
    "\n",
    "pclass_pip = Pipeline([\n",
    "    ('pclass_std', StandardScaler())\n",
    "])\n",
    "\n",
    "age_pip = Pipeline([\n",
    "    ('age_std', StandardScaler())\n",
    "])\n",
    "\n",
    "parch_pip = Pipeline([\n",
    "    ('parch_std', StandardScaler())\n",
    "])\n",
    "\n",
    "sibsp_pip = Pipeline([\n",
    "    ('sibsp_std', StandardScaler())\n",
    "])\n",
    "\n",
    "add_attrs = Pipeline([\n",
    "    (\"cabin_fill\", SimpleImputer(strategy=\"most_frequent\")),\n",
    "    (\"add_cabin_letters\", CabinLetterOnly())\n",
    "])\n",
    "\n",
    "# new = add_attrs.fit_transform(titanic.values)\n",
    "# titanic = pd.DataFrame(new, index=titanic.index, columns=titanic.columns.union(pd.Index([\"Cabin_letter\"]), sort=False))\n",
    "# titanic.drop([\"Cabin\"], axis=1, inplace=True)\n",
    "\n",
    "# cabin_pip = Pipeline([\n",
    "#     ('cabin_1hot', OneHotEncoder(categories=[titanic.Cabin_letter]))\n",
    "# ])\n",
    "\n",
    "attr_pip = ColumnTransformer([\n",
    "    #(\"passthrough\", \"passthrough\", [\"Pclass\"]),\n",
    "    (\"pclass\", pclass_pip, [\"Pclass\"]),\n",
    "    (\"sex\", sex_pip, [\"Sex\"]),\n",
    "    (\"fare\", fare_pip, [\"Fare\"]),\n",
    "    (\"age\", fare_pip, [\"Age\"]),\n",
    "    (\"parch\", parch_pip, [\"Parch\"]),\n",
    "    (\"sibsp\", sibsp_pip, [\"SibSp\"]),\n",
    "    #(\"cabin_add\", add_attrs, [\"Cabin\"]),\n",
    "    #(\"cabin_trans\", cabin_pip, [\"Cabin_letter\"]),\n",
    "], remainder=\"drop\")"
   ]
  },
  {
   "cell_type": "code",
   "execution_count": 30,
   "metadata": {},
   "outputs": [],
   "source": [
    "split = StratifiedShuffleSplit(n_splits=1, test_size=0.1, random_state=42)\n",
    "for train_ix, test_ix in split.split(titanic, titanic[\"Sex\"]):\n",
    "    strat_train = titanic.loc[train_ix]\n",
    "    strat_devtest = titanic.loc[test_ix]"
   ]
  },
  {
   "cell_type": "code",
   "execution_count": 31,
   "metadata": {},
   "outputs": [],
   "source": [
    "titanic_labels = titanic[\"Survived\"].astype(int)\n",
    "strat_train_labels = strat_train[\"Survived\"].astype(int)\n",
    "strat_devtest_labels = strat_devtest[\"Survived\"].astype(int)\n",
    "strat_train.drop(\"Survived\", inplace=True, axis=1)\n",
    "strat_devtest.drop(\"Survived\", inplace=True, axis=1)"
   ]
  },
  {
   "cell_type": "code",
   "execution_count": 32,
   "metadata": {},
   "outputs": [],
   "source": [
    "strat_train_prep = attr_pip.fit_transform(strat_train)\n",
    "strat_devtest_prep = attr_pip.fit_transform(strat_devtest)\n",
    "skfold = StratifiedKFold(n_splits=5)"
   ]
  },
  {
   "cell_type": "code",
   "execution_count": 33,
   "metadata": {},
   "outputs": [],
   "source": [
    "svc = SVC(random_state=42, probability=True)"
   ]
  },
  {
   "cell_type": "code",
   "execution_count": 34,
   "metadata": {},
   "outputs": [],
   "source": [
    "param_grid = [\n",
    "    {\"random_state\" : [42], \"C\" : [4], \"kernel\" : [\"poly\"], \"degree\" : [1],\n",
    "    \"coef0\" : [2]}\n",
    "]\n",
    "\n",
    "gridsearch = GridSearchCV(svc, param_grid = param_grid, cv = skfold, scoring=\"accuracy\", return_train_score=False)\n",
    "gridsearch.fit(strat_train_prep, strat_train_labels)\n",
    "best_svc = gridsearch.best_estimator_"
   ]
  },
  {
   "cell_type": "code",
   "execution_count": 35,
   "metadata": {},
   "outputs": [
    {
     "data": {
      "text/plain": [
       "<matplotlib.axes._subplots.AxesSubplot at 0x7f97ae47ef10>"
      ]
     },
     "execution_count": 35,
     "metadata": {},
     "output_type": "execute_result"
    },
    {
     "data": {
      "image/png": "[encoded data removed]",
      "text/plain": [
       "<Figure size 432x288 with 1 Axes>"
      ]
     },
     "metadata": {},
     "output_type": "display_data"
    }
   ],
   "source": [
    "pred_scores = cross_val_predict(best_svc, strat_train_prep, strat_train_labels, cv = skfold, method=\"decision_function\")\n",
    "precisions, recalls, thresholds = precision_recall_curve(strat_train_labels, pred_scores)\n",
    "\n",
    "sns.lineplot(thresholds, precisions[:-1], color=\"r\")\n",
    "sns.lineplot(thresholds, recalls[:-1], color=\"b\")"
   ]
  },
  {
   "cell_type": "code",
   "execution_count": 36,
   "metadata": {},
   "outputs": [
    {
     "data": {
      "text/plain": [
       "<sklearn.metrics._plot.precision_recall_curve.PrecisionRecallDisplay at 0x7f97ae23e650>"
      ]
     },
     "execution_count": 36,
     "metadata": {},
     "output_type": "execute_result"
    },
    {
     "data": {
      "image/png": "[encoded data removed]",
      "text/plain": [
       "<Figure size 432x288 with 1 Axes>"
      ]
     },
     "metadata": {},
     "output_type": "display_data"
    }
   ],
   "source": [
    "plot_precision_recall_curve(best_svc, strat_train_prep, strat_train_labels, response_method=\"decision_function\")"
   ]
  },
  {
   "cell_type": "code",
   "execution_count": 37,
   "metadata": {},
   "outputs": [
    {
     "data": {
      "text/plain": [
       "array([[46, 11],\n",
       "       [12, 21]])"
      ]
     },
     "execution_count": 37,
     "metadata": {},
     "output_type": "execute_result"
    }
   ],
   "source": [
    "pred = best_svc.predict(strat_devtest_prep)\n",
    "confusion_matrix(strat_devtest_labels, pred)"
   ]
  },
  {
   "cell_type": "code",
   "execution_count": 45,
   "metadata": {},
   "outputs": [],
   "source": [
    "# thresh = 0.65\n",
    "# custom_thresh_preds = pred_scores > thresh\n",
    "# precisions, recalls, thresholds = precision_recall_curve(strat_devtest_labels, custom_thresh_preds[:, 1])\n",
    "\n",
    "# sns.lineplot(thresholds, precisions[:-1], color=\"r\")\n",
    "# sns.lineplot(thresholds, recalls[:-1], color=\"b\")"
   ]
  },
  {
   "cell_type": "code",
   "execution_count": 40,
   "metadata": {},
   "outputs": [],
   "source": [
    "confusion_matrix(strat_devtest_labels, custom_thresh_preds[:,1])"
   ]
  },
  {
   "cell_type": "code",
   "execution_count": 46,
   "metadata": {},
   "outputs": [
    {
     "data": {
      "text/html": [
       "<div>\n",
       "<style scoped>\n",
       "    .dataframe tbody tr th:only-of-type {\n",
       "        vertical-align: middle;\n",
       "    }\n",
       "\n",
       "    .dataframe tbody tr th {\n",
       "        vertical-align: top;\n",
       "    }\n",
       "\n",
       "    .dataframe thead th {\n",
       "        text-align: right;\n",
       "    }\n",
       "</style>\n",
       "<table border=\"1\" class=\"dataframe\">\n",
       "  <thead>\n",
       "    <tr style=\"text-align: right;\">\n",
       "      <th></th>\n",
       "      <th>Survived</th>\n",
       "    </tr>\n",
       "    <tr>\n",
       "      <th>PassengerId</th>\n",
       "      <th></th>\n",
       "    </tr>\n",
       "  </thead>\n",
       "  <tbody>\n",
       "    <tr>\n",
       "      <th>892</th>\n",
       "      <td>0</td>\n",
       "    </tr>\n",
       "    <tr>\n",
       "      <th>893</th>\n",
       "      <td>1</td>\n",
       "    </tr>\n",
       "    <tr>\n",
       "      <th>894</th>\n",
       "      <td>0</td>\n",
       "    </tr>\n",
       "    <tr>\n",
       "      <th>895</th>\n",
       "      <td>0</td>\n",
       "    </tr>\n",
       "    <tr>\n",
       "      <th>896</th>\n",
       "      <td>1</td>\n",
       "    </tr>\n",
       "    <tr>\n",
       "      <th>...</th>\n",
       "      <td>...</td>\n",
       "    </tr>\n",
       "    <tr>\n",
       "      <th>1305</th>\n",
       "      <td>0</td>\n",
       "    </tr>\n",
       "    <tr>\n",
       "      <th>1306</th>\n",
       "      <td>1</td>\n",
       "    </tr>\n",
       "    <tr>\n",
       "      <th>1307</th>\n",
       "      <td>0</td>\n",
       "    </tr>\n",
       "    <tr>\n",
       "      <th>1308</th>\n",
       "      <td>0</td>\n",
       "    </tr>\n",
       "    <tr>\n",
       "      <th>1309</th>\n",
       "      <td>0</td>\n",
       "    </tr>\n",
       "  </tbody>\n",
       "</table>\n",
       "<p>418 rows × 1 columns</p>\n",
       "</div>"
      ],
      "text/plain": [
       "             Survived\n",
       "PassengerId          \n",
       "892                 0\n",
       "893                 1\n",
       "894                 0\n",
       "895                 0\n",
       "896                 1\n",
       "...               ...\n",
       "1305                0\n",
       "1306                1\n",
       "1307                0\n",
       "1308                0\n",
       "1309                0\n",
       "\n",
       "[418 rows x 1 columns]"
      ]
     },
     "execution_count": 46,
     "metadata": {},
     "output_type": "execute_result"
    }
   ],
   "source": [
    "#best_model = RandomForestClassifier(random_state=42)\n",
    "best_model = best_svc\n",
    "\n",
    "full_train = titanic.drop(\"Survived\", axis=1)\n",
    "full_train_prep = attr_pip.fit_transform(full_train)\n",
    "best_model.fit(full_train_prep, titanic_labels)\n",
    "\n",
    "test = pd.read_csv(fname_test)\n",
    "test_prep = attr_pip.fit_transform(test)\n",
    "titanic_prep = attr_pip.fit_transform(titanic)\n",
    "\n",
    "#sgd_clf.fit(titanic_prep, titanic_labels)\n",
    "#survival_pred = sgd_clf.predict(test_prep)\n",
    "\n",
    "survival_pred = best_model.predict(test_prep)\n",
    "\n",
    "\n",
    "survival_proba = best_model.predict_proba(test_prep)\n",
    "survival_pred = survival_proba > thresh\n",
    "survival_pred = survival_pred[:, 1].astype(int)\n",
    "\n",
    "\n",
    "survival_pred = pd.DataFrame(survival_pred, columns=[\"Survived\"])\n",
    "\n",
    "id_survival = pd.concat([test.PassengerId, survival_pred], axis=1)\n",
    "id_survival.set_index(\"PassengerId\", inplace=True)\n",
    "id_survival.to_csv(\"predicition.csv\")\n",
    "id_survival"
   ]
  },
  {
   "cell_type": "code",
   "execution_count": null,
   "metadata": {},
   "outputs": [],
   "source": []
  }
 ],
 "metadata": {
  "kernelspec": {
   "display_name": "Python 3",
   "language": "python",
   "name": "python3"
  },
  "language_info": {
   "codemirror_mode": {
    "name": "ipython",
    "version": 3
   },
   "file_extension": ".py",
   "mimetype": "text/x-python",
   "name": "python",
   "nbconvert_exporter": "python",
   "pygments_lexer": "ipython3",
   "version": "3.7.4"
  }
 },
 "nbformat": 4,
 "nbformat_minor": 4
}
