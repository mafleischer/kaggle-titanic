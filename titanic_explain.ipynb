{
 "cells": [
  {
   "cell_type": "code",
   "execution_count": 1,
   "metadata": {},
   "outputs": [],
   "source": [
    "import numpy as np\n",
    "import matplotlib as mpl\n",
    "import matplotlib.pyplot as plt\n",
    "from mpl_toolkits import mplot3d\n",
    "import seaborn as sns\n",
    "from IPython.display import Image\n",
    "import pandas as pd\n",
    "import os\n",
    "\n",
    "from sklearn.base import BaseEstimator, TransformerMixin\n",
    "from sklearn.model_selection import StratifiedShuffleSplit, StratifiedKFold, cross_val_score, cross_val_predict ,GridSearchCV\n",
    "from sklearn.preprocessing import OneHotEncoder, LabelEncoder, StandardScaler, PolynomialFeatures\n",
    "from sklearn.impute import SimpleImputer, KNNImputer\n",
    "from sklearn.compose import ColumnTransformer\n",
    "from sklearn.pipeline import make_pipeline, Pipeline\n",
    "\n",
    "sns.set()\n",
    "\n",
    "# This checks if the notebook is executed on Kaggle or on your local machine and\n",
    "# acts accordingly with filenames.\n",
    "fname_train = \"train.csv\"\n",
    "fname_test = \"test.csv\"\n",
    "\n",
    "try:\n",
    "    os.environ['KAGGLE_DATA_PROXY_TOKEN']\n",
    "except KeyError:\n",
    "    pass\n",
    "else:\n",
    "    dirname = \"/kaggle/input/titanic/\"\n",
    "    fname_train = dirname + fname_train\n",
    "    fname_test = dirname + fname_test"
   ]
  },
  {
   "cell_type": "code",
   "execution_count": 2,
   "metadata": {},
   "outputs": [
    {
     "data": {
      "text/html": [
       "<img src=\"https://static1.squarespace.com/static/5006453fe4b09ef2252ba068/t/5090b249e4b047ba54dfd258/1351660113175/TItanic-Survival-Infographic.jpg?format=1500w\"/>"
      ],
      "text/plain": [
       "<IPython.core.display.Image object>"
      ]
     },
     "execution_count": 2,
     "metadata": {},
     "output_type": "execute_result"
    }
   ],
   "source": [
    "Image(url= \"https://static1.squarespace.com/static/5006453fe4b09ef2252ba068/t/5090b249e4b047ba54dfd258/1351660113175/TItanic-Survival-Infographic.jpg?format=1500w\")"
   ]
  },
  {
   "cell_type": "markdown",
   "metadata": {},
   "source": [
    "# \"What do we have here?\""
   ]
  },
  {
   "cell_type": "code",
   "execution_count": 3,
   "metadata": {},
   "outputs": [
    {
     "name": "stdout",
     "output_type": "stream",
     "text": [
      "<class 'pandas.core.frame.DataFrame'>\n",
      "RangeIndex: 891 entries, 0 to 890\n",
      "Data columns (total 12 columns):\n",
      " #   Column       Non-Null Count  Dtype  \n",
      "---  ------       --------------  -----  \n",
      " 0   PassengerId  891 non-null    int64  \n",
      " 1   Survived     891 non-null    int64  \n",
      " 2   Pclass       891 non-null    int64  \n",
      " 3   Name         891 non-null    object \n",
      " 4   Sex          891 non-null    object \n",
      " 5   Age          714 non-null    float64\n",
      " 6   SibSp        891 non-null    int64  \n",
      " 7   Parch        891 non-null    int64  \n",
      " 8   Ticket       891 non-null    object \n",
      " 9   Fare         891 non-null    float64\n",
      " 10  Cabin        204 non-null    object \n",
      " 11  Embarked     889 non-null    object \n",
      "dtypes: float64(2), int64(5), object(5)\n",
      "memory usage: 83.7+ KB\n"
     ]
    }
   ],
   "source": [
    "titanic = pd.read_csv(fname_train)\n",
    "titanic_orig = titanic\n",
    "titanic.info()"
   ]
  },
  {
   "cell_type": "code",
   "execution_count": 4,
   "metadata": {},
   "outputs": [
    {
     "data": {
      "text/html": [
       "<div>\n",
       "<style scoped>\n",
       "    .dataframe tbody tr th:only-of-type {\n",
       "        vertical-align: middle;\n",
       "    }\n",
       "\n",
       "    .dataframe tbody tr th {\n",
       "        vertical-align: top;\n",
       "    }\n",
       "\n",
       "    .dataframe thead th {\n",
       "        text-align: right;\n",
       "    }\n",
       "</style>\n",
       "<table border=\"1\" class=\"dataframe\">\n",
       "  <thead>\n",
       "    <tr style=\"text-align: right;\">\n",
       "      <th></th>\n",
       "      <th>PassengerId</th>\n",
       "      <th>Survived</th>\n",
       "      <th>Pclass</th>\n",
       "      <th>Name</th>\n",
       "      <th>Sex</th>\n",
       "      <th>Age</th>\n",
       "      <th>SibSp</th>\n",
       "      <th>Parch</th>\n",
       "      <th>Ticket</th>\n",
       "      <th>Fare</th>\n",
       "      <th>Cabin</th>\n",
       "      <th>Embarked</th>\n",
       "    </tr>\n",
       "  </thead>\n",
       "  <tbody>\n",
       "    <tr>\n",
       "      <th>0</th>\n",
       "      <td>1</td>\n",
       "      <td>0</td>\n",
       "      <td>3</td>\n",
       "      <td>Braund, Mr. Owen Harris</td>\n",
       "      <td>male</td>\n",
       "      <td>22.0</td>\n",
       "      <td>1</td>\n",
       "      <td>0</td>\n",
       "      <td>A/5 21171</td>\n",
       "      <td>7.2500</td>\n",
       "      <td>NaN</td>\n",
       "      <td>S</td>\n",
       "    </tr>\n",
       "    <tr>\n",
       "      <th>1</th>\n",
       "      <td>2</td>\n",
       "      <td>1</td>\n",
       "      <td>1</td>\n",
       "      <td>Cumings, Mrs. John Bradley (Florence Briggs Th...</td>\n",
       "      <td>female</td>\n",
       "      <td>38.0</td>\n",
       "      <td>1</td>\n",
       "      <td>0</td>\n",
       "      <td>PC 17599</td>\n",
       "      <td>71.2833</td>\n",
       "      <td>C85</td>\n",
       "      <td>C</td>\n",
       "    </tr>\n",
       "    <tr>\n",
       "      <th>2</th>\n",
       "      <td>3</td>\n",
       "      <td>1</td>\n",
       "      <td>3</td>\n",
       "      <td>Heikkinen, Miss. Laina</td>\n",
       "      <td>female</td>\n",
       "      <td>26.0</td>\n",
       "      <td>0</td>\n",
       "      <td>0</td>\n",
       "      <td>STON/O2. 3101282</td>\n",
       "      <td>7.9250</td>\n",
       "      <td>NaN</td>\n",
       "      <td>S</td>\n",
       "    </tr>\n",
       "    <tr>\n",
       "      <th>3</th>\n",
       "      <td>4</td>\n",
       "      <td>1</td>\n",
       "      <td>1</td>\n",
       "      <td>Futrelle, Mrs. Jacques Heath (Lily May Peel)</td>\n",
       "      <td>female</td>\n",
       "      <td>35.0</td>\n",
       "      <td>1</td>\n",
       "      <td>0</td>\n",
       "      <td>113803</td>\n",
       "      <td>53.1000</td>\n",
       "      <td>C123</td>\n",
       "      <td>S</td>\n",
       "    </tr>\n",
       "    <tr>\n",
       "      <th>4</th>\n",
       "      <td>5</td>\n",
       "      <td>0</td>\n",
       "      <td>3</td>\n",
       "      <td>Allen, Mr. William Henry</td>\n",
       "      <td>male</td>\n",
       "      <td>35.0</td>\n",
       "      <td>0</td>\n",
       "      <td>0</td>\n",
       "      <td>373450</td>\n",
       "      <td>8.0500</td>\n",
       "      <td>NaN</td>\n",
       "      <td>S</td>\n",
       "    </tr>\n",
       "  </tbody>\n",
       "</table>\n",
       "</div>"
      ],
      "text/plain": [
       "   PassengerId  Survived  Pclass  \\\n",
       "0            1         0       3   \n",
       "1            2         1       1   \n",
       "2            3         1       3   \n",
       "3            4         1       1   \n",
       "4            5         0       3   \n",
       "\n",
       "                                                Name     Sex   Age  SibSp  \\\n",
       "0                            Braund, Mr. Owen Harris    male  22.0      1   \n",
       "1  Cumings, Mrs. John Bradley (Florence Briggs Th...  female  38.0      1   \n",
       "2                             Heikkinen, Miss. Laina  female  26.0      0   \n",
       "3       Futrelle, Mrs. Jacques Heath (Lily May Peel)  female  35.0      1   \n",
       "4                           Allen, Mr. William Henry    male  35.0      0   \n",
       "\n",
       "   Parch            Ticket     Fare Cabin Embarked  \n",
       "0      0         A/5 21171   7.2500   NaN        S  \n",
       "1      0          PC 17599  71.2833   C85        C  \n",
       "2      0  STON/O2. 3101282   7.9250   NaN        S  \n",
       "3      0            113803  53.1000  C123        S  \n",
       "4      0            373450   8.0500   NaN        S  "
      ]
     },
     "execution_count": 4,
     "metadata": {},
     "output_type": "execute_result"
    }
   ],
   "source": [
    "titanic.head()"
   ]
  },
  {
   "cell_type": "code",
   "execution_count": 5,
   "metadata": {},
   "outputs": [
    {
     "data": {
      "text/plain": [
       "PassengerId    False\n",
       "Survived       False\n",
       "Pclass         False\n",
       "Name           False\n",
       "Sex            False\n",
       "Age             True\n",
       "SibSp          False\n",
       "Parch          False\n",
       "Ticket         False\n",
       "Fare           False\n",
       "Cabin           True\n",
       "Embarked        True\n",
       "dtype: bool"
      ]
     },
     "execution_count": 5,
     "metadata": {},
     "output_type": "execute_result"
    }
   ],
   "source": [
    "#titanic = titanic.infer_objects()\n",
    "titanic.isnull().any()"
   ]
  },
  {
   "cell_type": "markdown",
   "metadata": {},
   "source": [
    "## Fill missing values"
   ]
  },
  {
   "cell_type": "code",
   "execution_count": 6,
   "metadata": {},
   "outputs": [
    {
     "data": {
      "text/plain": [
       "<matplotlib.axes._subplots.AxesSubplot at 0x7f15b9af2590>"
      ]
     },
     "execution_count": 6,
     "metadata": {},
     "output_type": "execute_result"
    },
    {
     "data": {
      "image/png": "[encoded data removed]",
      "text/plain": [
       "<Figure size 432x288 with 1 Axes>"
      ]
     },
     "metadata": {},
     "output_type": "display_data"
    }
   ],
   "source": [
    "sns.countplot(titanic_orig.Embarked, hue=titanic.Pclass)"
   ]
  },
  {
   "cell_type": "code",
   "execution_count": 7,
   "metadata": {},
   "outputs": [
    {
     "data": {
      "text/html": [
       "<div>\n",
       "<style scoped>\n",
       "    .dataframe tbody tr th:only-of-type {\n",
       "        vertical-align: middle;\n",
       "    }\n",
       "\n",
       "    .dataframe tbody tr th {\n",
       "        vertical-align: top;\n",
       "    }\n",
       "\n",
       "    .dataframe thead th {\n",
       "        text-align: right;\n",
       "    }\n",
       "</style>\n",
       "<table border=\"1\" class=\"dataframe\">\n",
       "  <thead>\n",
       "    <tr style=\"text-align: right;\">\n",
       "      <th></th>\n",
       "      <th>PassengerId</th>\n",
       "      <th>Survived</th>\n",
       "      <th>Pclass</th>\n",
       "      <th>Name</th>\n",
       "      <th>Sex</th>\n",
       "      <th>Age</th>\n",
       "      <th>SibSp</th>\n",
       "      <th>Parch</th>\n",
       "      <th>Ticket</th>\n",
       "      <th>Fare</th>\n",
       "      <th>Cabin</th>\n",
       "      <th>Embarked</th>\n",
       "    </tr>\n",
       "  </thead>\n",
       "  <tbody>\n",
       "    <tr>\n",
       "      <th>61</th>\n",
       "      <td>62</td>\n",
       "      <td>1</td>\n",
       "      <td>1</td>\n",
       "      <td>Icard, Miss. Amelie</td>\n",
       "      <td>female</td>\n",
       "      <td>38.0</td>\n",
       "      <td>0</td>\n",
       "      <td>0</td>\n",
       "      <td>113572</td>\n",
       "      <td>80.0</td>\n",
       "      <td>B28</td>\n",
       "      <td>NaN</td>\n",
       "    </tr>\n",
       "    <tr>\n",
       "      <th>829</th>\n",
       "      <td>830</td>\n",
       "      <td>1</td>\n",
       "      <td>1</td>\n",
       "      <td>Stone, Mrs. George Nelson (Martha Evelyn)</td>\n",
       "      <td>female</td>\n",
       "      <td>62.0</td>\n",
       "      <td>0</td>\n",
       "      <td>0</td>\n",
       "      <td>113572</td>\n",
       "      <td>80.0</td>\n",
       "      <td>B28</td>\n",
       "      <td>NaN</td>\n",
       "    </tr>\n",
       "  </tbody>\n",
       "</table>\n",
       "</div>"
      ],
      "text/plain": [
       "     PassengerId  Survived  Pclass                                       Name  \\\n",
       "61            62         1       1                        Icard, Miss. Amelie   \n",
       "829          830         1       1  Stone, Mrs. George Nelson (Martha Evelyn)   \n",
       "\n",
       "        Sex   Age  SibSp  Parch  Ticket  Fare Cabin Embarked  \n",
       "61   female  38.0      0      0  113572  80.0   B28      NaN  \n",
       "829  female  62.0      0      0  113572  80.0   B28      NaN  "
      ]
     },
     "execution_count": 7,
     "metadata": {},
     "output_type": "execute_result"
    }
   ],
   "source": [
    "titanic_orig[titanic_orig.Embarked.isnull()]"
   ]
  },
  {
   "cell_type": "code",
   "execution_count": 8,
   "metadata": {},
   "outputs": [],
   "source": [
    "titanic.loc[61, \"Embarked\"] = \"S\"\n",
    "titanic.loc[829, \"Embarked\"] = \"S\""
   ]
  },
  {
   "cell_type": "code",
   "execution_count": 9,
   "metadata": {},
   "outputs": [
    {
     "data": {
      "text/html": [
       "<div>\n",
       "<style scoped>\n",
       "    .dataframe tbody tr th:only-of-type {\n",
       "        vertical-align: middle;\n",
       "    }\n",
       "\n",
       "    .dataframe tbody tr th {\n",
       "        vertical-align: top;\n",
       "    }\n",
       "\n",
       "    .dataframe thead th {\n",
       "        text-align: right;\n",
       "    }\n",
       "</style>\n",
       "<table border=\"1\" class=\"dataframe\">\n",
       "  <thead>\n",
       "    <tr style=\"text-align: right;\">\n",
       "      <th></th>\n",
       "      <th>PassengerId</th>\n",
       "      <th>Survived</th>\n",
       "      <th>Pclass</th>\n",
       "      <th>Name</th>\n",
       "      <th>Sex</th>\n",
       "      <th>Age</th>\n",
       "      <th>SibSp</th>\n",
       "      <th>Parch</th>\n",
       "      <th>Ticket</th>\n",
       "      <th>Fare</th>\n",
       "      <th>Cabin</th>\n",
       "      <th>Embarked</th>\n",
       "    </tr>\n",
       "  </thead>\n",
       "  <tbody>\n",
       "  </tbody>\n",
       "</table>\n",
       "</div>"
      ],
      "text/plain": [
       "Empty DataFrame\n",
       "Columns: [PassengerId, Survived, Pclass, Name, Sex, Age, SibSp, Parch, Ticket, Fare, Cabin, Embarked]\n",
       "Index: []"
      ]
     },
     "execution_count": 9,
     "metadata": {},
     "output_type": "execute_result"
    }
   ],
   "source": [
    "titanic[titanic.Embarked.isnull()]"
   ]
  },
  {
   "cell_type": "code",
   "execution_count": 10,
   "metadata": {},
   "outputs": [],
   "source": [
    "class CabinLetterOnly(BaseEstimator, TransformerMixin):\n",
    "    def __init__(self):\n",
    "        pass\n",
    "    def fit(self, X, y = None):\n",
    "        return self\n",
    "    def transform(self, X):\n",
    "        df = pd.DataFrame(X, index=titanic_orig.index, columns=titanic_orig.columns)\n",
    "        s_cabin_letters = df.Cabin.str.extract(\"^([A-Z]).*\", expand = False)\n",
    "        return np.c_[df.to_numpy(), s_cabin_letters]\n",
    "\n",
    "# add_cabin_letter = Pipeline([\n",
    "#     (\"cabin_fill\", SimpleImputer(strategy=\"most_frequent\")),\n",
    "#     (\"add_cabin_letters\", CabinLetterOnly())\n",
    "# ])\n",
    "\n",
    "add_cabin_letter = Pipeline([\n",
    "    (\"add_cabin_letters\", CabinLetterOnly())\n",
    "])\n",
    "\n",
    "titanic = pd.DataFrame(add_cabin_letter.fit_transform(titanic_orig), index=titanic_orig.index,\n",
    "                       columns = titanic_orig.columns.union(pd.Index([\"Cabin_letter\"]), sort=False))"
   ]
  },
  {
   "cell_type": "code",
   "execution_count": 11,
   "metadata": {},
   "outputs": [
    {
     "data": {
      "text/plain": [
       "204"
      ]
     },
     "execution_count": 11,
     "metadata": {},
     "output_type": "execute_result"
    }
   ],
   "source": [
    "len(titanic.Cabin[titanic.Cabin.notna()])"
   ]
  },
  {
   "cell_type": "code",
   "execution_count": 12,
   "metadata": {},
   "outputs": [
    {
     "data": {
      "text/plain": [
       "<matplotlib.axes._subplots.AxesSubplot at 0x7f15b737a150>"
      ]
     },
     "execution_count": 12,
     "metadata": {},
     "output_type": "execute_result"
    },
    {
     "data": {
      "image/png": "[encoded data removed]",
      "text/plain": [
       "<Figure size 1080x720 with 1 Axes>"
      ]
     },
     "metadata": {},
     "output_type": "display_data"
    }
   ],
   "source": [
    "cl_notna = titanic[titanic.Cabin_letter.notna()]\n",
    "\n",
    "fig, ax = plt.subplots(1, 1, figsize = (15,10))\n",
    "\n",
    "sns.countplot(data=cl_notna, x=\"Cabin_letter\", hue=\"Pclass\", ax = ax, palette=\"BuPu\")"
   ]
  },
  {
   "cell_type": "code",
   "execution_count": 13,
   "metadata": {},
   "outputs": [],
   "source": [
    "titanic.loc[ (titanic.Pclass == 1) & titanic.Cabin_letter.isna(), \"Cabin_letter\"] = 'C'\n",
    "titanic.loc[ (titanic.Pclass == 2) & titanic.Cabin_letter.isna(), \"Cabin_letter\"] = 'F'\n",
    "titanic.loc[ (titanic.Pclass == 3) & titanic.Cabin_letter.isna(), \"Cabin_letter\"] = 'G'\n",
    "\n",
    "titanic.drop(\"Cabin\", axis=1, inplace=True)"
   ]
  },
  {
   "cell_type": "code",
   "execution_count": 14,
   "metadata": {},
   "outputs": [
    {
     "data": {
      "text/plain": [
       "<matplotlib.axes._subplots.AxesSubplot at 0x7f15b6f86650>"
      ]
     },
     "execution_count": 14,
     "metadata": {},
     "output_type": "execute_result"
    },
    {
     "data": {
      "image/png": "[encoded data removed]",
      "text/plain": [
       "<Figure size 1080x720 with 1 Axes>"
      ]
     },
     "metadata": {},
     "output_type": "display_data"
    }
   ],
   "source": [
    "cl_notna = titanic[titanic.Cabin_letter.notna()]\n",
    "\n",
    "fig, ax = plt.subplots(1, 1, figsize = (15,10))\n",
    "\n",
    "sns.countplot(data=cl_notna, x=\"Cabin_letter\", hue=\"Pclass\", ax = ax, palette=\"BuPu\")"
   ]
  },
  {
   "cell_type": "code",
   "execution_count": 15,
   "metadata": {},
   "outputs": [],
   "source": [
    "titanic[\"Family_size\"] = titanic_orig.SibSp + titanic_orig.Parch"
   ]
  },
  {
   "cell_type": "code",
   "execution_count": 16,
   "metadata": {},
   "outputs": [],
   "source": [
    "s_ticket_group = titanic.groupby(\"Ticket\").size().rename(\"Ticket_group_size\")\n",
    "titanic = titanic.join(s_ticket_group, on=\"Ticket\", sort=False)"
   ]
  },
  {
   "cell_type": "code",
   "execution_count": 17,
   "metadata": {},
   "outputs": [
    {
     "data": {
      "text/plain": [
       "Ticket\n",
       "110152         3\n",
       "110413         3\n",
       "110465         2\n",
       "110564         1\n",
       "110813         1\n",
       "              ..\n",
       "W./C. 6608     4\n",
       "W./C. 6609     1\n",
       "W.E.P. 5734    1\n",
       "W/C 14208      1\n",
       "WE/P 5735      2\n",
       "Length: 681, dtype: int64"
      ]
     },
     "execution_count": 17,
     "metadata": {},
     "output_type": "execute_result"
    }
   ],
   "source": [
    "titanic.groupby(\"Ticket\").size()"
   ]
  },
  {
   "cell_type": "code",
   "execution_count": 18,
   "metadata": {},
   "outputs": [],
   "source": [
    "titanic[\"Fare_p_person\"] = pd.Series(np.nan)\n",
    "titanic.loc[titanic.Ticket_group_size == 1, \"Fare_p_person\"] = titanic.loc[titanic.Ticket_group_size == 1, \"Fare\"]\n",
    "titanic.loc[(titanic.Ticket_group_size > 1), \"Fare_p_person\"] = \\\n",
    "    titanic.loc[(titanic.Ticket_group_size > 1), \"Fare\"] / (titanic.loc[(titanic.Ticket_group_size > 0), \"Ticket_group_size\"])"
   ]
  },
  {
   "cell_type": "code",
   "execution_count": 19,
   "metadata": {},
   "outputs": [
    {
     "data": {
      "text/plain": [
       "11.899999999999999"
      ]
     },
     "execution_count": 19,
     "metadata": {},
     "output_type": "execute_result"
    }
   ],
   "source": [
    "titanic.loc[titanic.Pclass == 3, \"Fare_p_person\"].quantile(0.95)"
   ]
  },
  {
   "cell_type": "code",
   "execution_count": 20,
   "metadata": {},
   "outputs": [
    {
     "data": {
      "text/plain": [
       "26.0"
      ]
     },
     "execution_count": 20,
     "metadata": {},
     "output_type": "execute_result"
    }
   ],
   "source": [
    "titanic.loc[titanic.Pclass == 2, \"Fare_p_person\"].quantile(0.95)"
   ]
  },
  {
   "cell_type": "code",
   "execution_count": 21,
   "metadata": {},
   "outputs": [
    {
     "data": {
      "text/plain": [
       "26.0"
      ]
     },
     "execution_count": 21,
     "metadata": {},
     "output_type": "execute_result"
    }
   ],
   "source": [
    "titanic.loc[titanic.Pclass == 1, \"Fare_p_person\"].quantile(0.1)"
   ]
  },
  {
   "cell_type": "code",
   "execution_count": 22,
   "metadata": {},
   "outputs": [
    {
     "data": {
      "text/plain": [
       "221.7792"
      ]
     },
     "execution_count": 22,
     "metadata": {},
     "output_type": "execute_result"
    }
   ],
   "source": [
    "titanic.loc[titanic.Pclass == 1, \"Fare_p_person\"].max()"
   ]
  },
  {
   "cell_type": "code",
   "execution_count": 23,
   "metadata": {},
   "outputs": [],
   "source": [
    "age_round = titanic_orig.Age.dropna().apply(np.floor)\n",
    "titanic = titanic.join(age_round, lsuffix=\"_x\", sort=False)\n",
    "titanic.drop(\"Age_x\", axis=1, inplace=True)"
   ]
  },
  {
   "cell_type": "code",
   "execution_count": 24,
   "metadata": {},
   "outputs": [],
   "source": [
    "knnimputer = KNNImputer(n_neighbors=5, missing_values=np.nan)\n",
    "\n",
    "mask = titanic.Age.notna() & ( (titanic.Fare_p_person < 12) | (titanic.Age < 12) )\n",
    "df_children_or_low_fare = titanic.loc[mask, [\"Family_size\", \"Fare_p_person\", \"Age\"]]\n",
    "knnimputer.fit(df_children_or_low_fare)\n",
    "missing_age_low_fare = titanic.loc[(titanic.Fare_p_person < 12) & titanic.Age.isna()][[\"Family_size\", \"Fare_p_person\", \"Age\"]]\n",
    "imp = knnimputer.transform(missing_age_low_fare)\n",
    "titanic.loc[(titanic.Fare_p_person < 12) & titanic.Age.isna(), \"Age\"] = imp[:, 2]\n",
    "\n",
    "mask = titanic.Age.notna() & (titanic.Fare_p_person >= 12)\n",
    "df_children_or_low_fare = titanic.loc[mask, [\"Family_size\", \"Fare_p_person\", \"Age\"]]\n",
    "knnimputer.fit(df_children_or_low_fare)\n",
    "missing_age_usual_fare = titanic.loc[(titanic.Fare_p_person >= 12) & titanic.Age.isna()][[\"Family_size\", \"Fare_p_person\", \"Age\"]]\n",
    "imp = knnimputer.transform(missing_age_usual_fare)\n",
    "titanic.loc[(titanic.Fare_p_person >= 12) & titanic.Age.isna(), \"Age\"] = imp[:, 2]"
   ]
  },
  {
   "cell_type": "code",
   "execution_count": 25,
   "metadata": {},
   "outputs": [
    {
     "ename": "NameError",
     "evalue": "name 'LinearRegression' is not defined",
     "output_type": "error",
     "traceback": [
      "\u001b[0;31m---------------------------------------------------------------------------\u001b[0m",
      "\u001b[0;31mNameError\u001b[0m                                 Traceback (most recent call last)",
      "\u001b[0;32m<ipython-input-25-0fb8f93a8220>\u001b[0m in \u001b[0;36m<module>\u001b[0;34m\u001b[0m\n\u001b[1;32m     54\u001b[0m lin_reg_pip = Pipeline([\n\u001b[1;32m     55\u001b[0m     \u001b[0;34m(\u001b[0m\u001b[0;34m\"attr_pip\"\u001b[0m\u001b[0;34m,\u001b[0m \u001b[0mattr_pip\u001b[0m\u001b[0;34m)\u001b[0m\u001b[0;34m,\u001b[0m\u001b[0;34m\u001b[0m\u001b[0;34m\u001b[0m\u001b[0m\n\u001b[0;32m---> 56\u001b[0;31m     \u001b[0;34m(\u001b[0m\u001b[0;34m'lin_reg'\u001b[0m\u001b[0;34m,\u001b[0m \u001b[0mLinearRegression\u001b[0m\u001b[0;34m(\u001b[0m\u001b[0;34m)\u001b[0m\u001b[0;34m)\u001b[0m\u001b[0;34m\u001b[0m\u001b[0;34m\u001b[0m\u001b[0m\n\u001b[0m\u001b[1;32m     57\u001b[0m ])\n\u001b[1;32m     58\u001b[0m \u001b[0;34m\u001b[0m\u001b[0m\n",
      "\u001b[0;31mNameError\u001b[0m: name 'LinearRegression' is not defined"
     ]
    }
   ],
   "source": [
    "# sex_pip = Pipeline([\n",
    "#     ('one_hot', OneHotEncoder(categories=[titanic.Sex]))\n",
    "# ]\n",
    "    \n",
    "sex_pip = Pipeline([\n",
    "    ('sex_label', LabelEncoder())\n",
    "])\n",
    "\n",
    "fare_pip = Pipeline([\n",
    "    (\"fare_mean\", SimpleImputer(strategy=\"mean\")),\n",
    "    ('fare_std', StandardScaler())\n",
    "])\n",
    "\n",
    "pclass_pip = Pipeline([\n",
    "    ('pclass_std', StandardScaler())\n",
    "])\n",
    "\n",
    "age_pip = Pipeline([\n",
    "    ('age_std', StandardScaler())\n",
    "])\n",
    "\n",
    "parch_pip = Pipeline([\n",
    "    ('parch_std', StandardScaler())\n",
    "])\n",
    "\n",
    "sibsp_pip = Pipeline([\n",
    "    ('sibsp_std', StandardScaler())\n",
    "])\n",
    "\n",
    "add_attrs = Pipeline([\n",
    "    (\"cabin_fill\", SimpleImputer(strategy=\"most_frequent\")),\n",
    "    (\"add_cabin_letters\", CabinLetterOnly())\n",
    "])\n",
    "\n",
    "# cabin_pip = Pipeline([\n",
    "#     ('cabin_1hot', OneHotEncoder(categories=[titanic.Cabin_letter]))\n",
    "# ])\n",
    "\n",
    "attr_pip = ColumnTransformer([\n",
    "    #(\"passthrough\", \"passthrough\", [\"Pclass\"]),\n",
    "    (\"pclass\", pclass_pip, [\"Pclass\"]),\n",
    "    (\"sex\", sex_pip, [\"Sex\"]),\n",
    "    (\"fare\", fare_pip, [\"Fare\"]),\n",
    "    (\"age\", fare_pip, [\"Age\"]),\n",
    "    (\"parch\", parch_pip, [\"Parch\"]),\n",
    "    (\"sibsp\", sibsp_pip, [\"SibSp\"]),\n",
    "    #(\"cabin_add\", add_attrs, [\"Cabin\"]),\n",
    "    #(\"cabin_trans\", cabin_pip, [\"Cabin_letter\"]),\n",
    "], remainder=\"drop\")\n",
    "\n",
    "\n",
    "### models ###\n",
    "\n",
    "lin_reg_pip = Pipeline([\n",
    "    (\"attr_pip\", attr_pip),\n",
    "    ('lin_reg', LinearRegression())\n",
    "])\n",
    "\n",
    "log_reg_pip = Pipeline([\n",
    "    (\"attr_pip\", attr_pip),\n",
    "    ('log_reg', LogisticRegression(multi_class=\"multinomial\"))\n",
    "])\n",
    "\n",
    "sgd_clf_pip = Pipeline([\n",
    "    (\"attr_pip\", attr_pip),\n",
    "    ('sgd_clf', SGDClassifier(random_state=42))\n",
    "])\n",
    "\n",
    "dectree_clf_pip = Pipeline([\n",
    "    (\"attr_pip\", attr_pip),\n",
    "    ('dec_tree', DecisionTreeClassifier(random_state=42))\n",
    "])\n",
    "\n",
    "rndforest_clf_pip = Pipeline([\n",
    "    (\"attr_pip\", attr_pip),\n",
    "    ('rnd_forest', RandomForestClassifier(random_state=42))\n",
    "])\n",
    "\n",
    "lin_svc_pip = Pipeline([\n",
    "    (\"attr_pip\", attr_pip),\n",
    "    ('lin_svc', LinearSVC(C = 10, loss = \"hinge\"))\n",
    "])\n",
    "\n",
    "svc_pip = Pipeline([\n",
    "    (\"attr_pip\", attr_pip),\n",
    "    ('lin_svc', SVC(C = 10))\n",
    "])"
   ]
  },
  {
   "cell_type": "markdown",
   "metadata": {},
   "source": [
    "# Create train and dev test sets now to avoid data snooping bias"
   ]
  },
  {
   "cell_type": "code",
   "execution_count": null,
   "metadata": {},
   "outputs": [],
   "source": [
    "split = StratifiedShuffleSplit(n_splits=1, test_size=0.1, random_state=42)"
   ]
  },
  {
   "cell_type": "markdown",
   "metadata": {},
   "source": [
    "## Stratify on Surived column for now. Maybe there is better."
   ]
  },
  {
   "cell_type": "code",
   "execution_count": null,
   "metadata": {},
   "outputs": [],
   "source": [
    "for train_ix, test_ix in split.split(titanic, titanic[\"Survived\"]):\n",
    "    strat_train = titanic.loc[train_ix]\n",
    "    strat_devtest = titanic.loc[test_ix]\n",
    "\n",
    "strat_train = strat_train.infer_objects()\n",
    "strat_devtest = strat_devtest.infer_objects()"
   ]
  },
  {
   "cell_type": "markdown",
   "metadata": {},
   "source": [
    "# Inspect further"
   ]
  },
  {
   "cell_type": "code",
   "execution_count": null,
   "metadata": {},
   "outputs": [],
   "source": [
    "fig, ax = plt.subplots(1, 2, sharey=True, figsize = (5,5))\n",
    "sns.countplot(x=\"Survived\", data=strat_train, ax = ax[0], palette = \"RdGy\")\n",
    "sns.countplot(x=\"Survived\", hue=\"Sex\", data=strat_train, ax = ax[0], palette = \"BuPu\")\n",
    "sns.countplot(x=\"Survived\", data=strat_train, ax = ax[1], palette = \"RdGy\")\n",
    "sns.countplot(x=\"Survived\", hue=\"Pclass\", data=strat_train, ax = ax[1], palette=\"cividis\")"
   ]
  },
  {
   "cell_type": "code",
   "execution_count": null,
   "metadata": {},
   "outputs": [],
   "source": [
    "strat_train[\"Fare_cat\"] = pd.cut(strat_train.Fare_p_person, bins = [0, 13, 30, 222], include_lowest=True)\n",
    "fig, ax = plt.subplots(1, 1, figsize=(10,10))\n",
    "sns.countplot(data=strat_train, x = \"Fare_cat\", hue = \"Survived\", ax = ax)"
   ]
  },
  {
   "cell_type": "code",
   "execution_count": null,
   "metadata": {},
   "outputs": [],
   "source": [
    "fig, ax = plt.subplots(1, 1, figsize=(10,10))\n",
    "strat_train[\"Age_cat\"] = pd.cut(strat_train[\"Age\"].astype(int), bins = 4)\n",
    "sns.countplot(data=strat_train, x = \"Age_cat\", hue = \"Survived\", ax = ax)"
   ]
  },
  {
   "cell_type": "code",
   "execution_count": null,
   "metadata": {},
   "outputs": [],
   "source": [
    "g = sns.FacetGrid(col=\"Sex\", row=\"Pclass\", data=strat_train)\n",
    "g.map_dataframe(sns.countplot, \"Survived\")"
   ]
  },
  {
   "cell_type": "code",
   "execution_count": null,
   "metadata": {},
   "outputs": [],
   "source": [
    "sns.countplot(strat_train.Embarked, hue=strat_train.Survived)"
   ]
  },
  {
   "cell_type": "code",
   "execution_count": null,
   "metadata": {},
   "outputs": [],
   "source": [
    "fig, ax = plt.subplots(1, 1, figsize=(20,15), subplot_kw={\"projection\" : \"3d\"})\n",
    "sex_enc = LabelEncoder().fit_transform(strat_train[\"Sex\"])\n",
    "p = ax.scatter3D(xs = strat_train.index, ys=sex_enc, zs=strat_train.Pclass, c = strat_train.Survived,\n",
    "                cmap = \"viridis\")\n",
    "fig.colorbar(p)"
   ]
  },
  {
   "cell_type": "code",
   "execution_count": null,
   "metadata": {},
   "outputs": [],
   "source": [
    "fig, ax = plt.subplots(1, 1, figsize=(20,15), subplot_kw={\"projection\" : \"3d\"})\n",
    "fare_cat_enc = LabelEncoder().fit_transform(strat_train[\"Fare_cat\"]).astype(int)\n",
    "p = ax.scatter3D(xs = strat_train.index, ys=sex_enc, zs=fare_cat_enc, c=strat_train[\"Survived\"],\n",
    "              cmap=\"viridis\")\n",
    "fig.colorbar(p)"
   ]
  },
  {
   "cell_type": "code",
   "execution_count": null,
   "metadata": {},
   "outputs": [],
   "source": [
    "fig, ax = plt.subplots(1, 1, figsize=(10,10))\n",
    "titanic[\"Age_cat\"] = pd.cut(titanic[\"Age\"].astype(int), bins = 4)\n",
    "sns.countplot(data=titanic, x = \"Age_cat\", hue = \"Survived\", ax = ax)"
   ]
  },
  {
   "cell_type": "markdown",
   "metadata": {},
   "source": [
    "# Labels"
   ]
  },
  {
   "cell_type": "code",
   "execution_count": null,
   "metadata": {},
   "outputs": [],
   "source": [
    "# titanic_labels = titanic[\"Survived\"].astype(int)\n",
    "# strat_train_labels = strat_train[\"Survived\"].astype(int)\n",
    "# strat_devtest_labels = strat_devtest[\"Survived\"].astype(int)\n",
    "# strat_train.drop(\"Survived\", inplace=True, axis=1)\n",
    "# strat_devtest.drop(\"Survived\", inplace=True, axis=1)"
   ]
  },
  {
   "cell_type": "markdown",
   "metadata": {},
   "source": [
    "# Prepare test set"
   ]
  },
  {
   "cell_type": "code",
   "execution_count": null,
   "metadata": {},
   "outputs": [],
   "source": [
    "test = pd.read_csv(\"test.csv\")\n",
    "test.info()"
   ]
  }
 ],
 "metadata": {
  "kernelspec": {
   "display_name": "Python 3",
   "language": "python",
   "name": "python3"
  },
  "language_info": {
   "codemirror_mode": {
    "name": "ipython",
    "version": 3
   },
   "file_extension": ".py",
   "mimetype": "text/x-python",
   "name": "python",
   "nbconvert_exporter": "python",
   "pygments_lexer": "ipython3",
   "version": "3.7.4"
  }
 },
 "nbformat": 4,
 "nbformat_minor": 4
}
