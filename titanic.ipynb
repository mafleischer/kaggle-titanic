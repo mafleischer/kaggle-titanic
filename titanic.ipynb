{
 "cells": [
  {
   "cell_type": "code",
   "execution_count": 89,
   "metadata": {},
   "outputs": [],
   "source": [
    "import numpy as np\n",
    "import matplotlib as mpl\n",
    "import matplotlib.pyplot as plt\n",
    "import seaborn as sns\n",
    "import pandas as pd\n",
    "\n",
    "from sklearn.base import BaseEstimator, TransformerMixin\n",
    "from sklearn.linear_model import LinearRegression, SGDClassifier, LogisticRegression\n",
    "from sklearn.svm import LinearSVC, SVC\n",
    "from sklearn.tree import DecisionTreeClassifier\n",
    "from sklearn.ensemble import RandomForestClassifier, VotingClassifier, AdaBoostClassifier, GradientBoostingClassifier, BaggingClassifier\n",
    "from sklearn.model_selection import StratifiedShuffleSplit, StratifiedKFold, cross_val_score, cross_val_predict ,GridSearchCV\n",
    "from sklearn.model_selection import validation_curve, learning_curve\n",
    "from sklearn.preprocessing import OneHotEncoder, StandardScaler, PolynomialFeatures\n",
    "from sklearn.impute import SimpleImputer\n",
    "from sklearn.compose import ColumnTransformer\n",
    "from sklearn.pipeline import make_pipeline, Pipeline\n",
    "from sklearn.metrics import mean_squared_error, accuracy_score, confusion_matrix, precision_recall_curve\n",
    "from sklearn.metrics import precision_score, recall_score, roc_curve, roc_auc_score\n",
    "\n",
    "\n",
    "sns.set()"
   ]
  },
  {
   "cell_type": "markdown",
   "metadata": {},
   "source": [
    "# \"What do we have here?\""
   ]
  },
  {
   "cell_type": "code",
   "execution_count": 90,
   "metadata": {},
   "outputs": [
    {
     "name": "stdout",
     "output_type": "stream",
     "text": [
      "<class 'pandas.core.frame.DataFrame'>\n",
      "RangeIndex: 891 entries, 0 to 890\n",
      "Data columns (total 12 columns):\n",
      " #   Column       Non-Null Count  Dtype  \n",
      "---  ------       --------------  -----  \n",
      " 0   PassengerId  891 non-null    int64  \n",
      " 1   Survived     891 non-null    int64  \n",
      " 2   Pclass       891 non-null    int64  \n",
      " 3   Name         891 non-null    object \n",
      " 4   Sex          891 non-null    object \n",
      " 5   Age          714 non-null    float64\n",
      " 6   SibSp        891 non-null    int64  \n",
      " 7   Parch        891 non-null    int64  \n",
      " 8   Ticket       891 non-null    object \n",
      " 9   Fare         891 non-null    float64\n",
      " 10  Cabin        204 non-null    object \n",
      " 11  Embarked     889 non-null    object \n",
      "dtypes: float64(2), int64(5), object(5)\n",
      "memory usage: 83.7+ KB\n"
     ]
    }
   ],
   "source": [
    "titanic = pd.read_csv(\"train.csv\")\n",
    "titanic.info()"
   ]
  },
  {
   "cell_type": "code",
   "execution_count": 91,
   "metadata": {},
   "outputs": [
    {
     "data": {
      "text/html": [
       "<div>\n",
       "<style scoped>\n",
       "    .dataframe tbody tr th:only-of-type {\n",
       "        vertical-align: middle;\n",
       "    }\n",
       "\n",
       "    .dataframe tbody tr th {\n",
       "        vertical-align: top;\n",
       "    }\n",
       "\n",
       "    .dataframe thead th {\n",
       "        text-align: right;\n",
       "    }\n",
       "</style>\n",
       "<table border=\"1\" class=\"dataframe\">\n",
       "  <thead>\n",
       "    <tr style=\"text-align: right;\">\n",
       "      <th></th>\n",
       "      <th>PassengerId</th>\n",
       "      <th>Survived</th>\n",
       "      <th>Pclass</th>\n",
       "      <th>Name</th>\n",
       "      <th>Sex</th>\n",
       "      <th>Age</th>\n",
       "      <th>SibSp</th>\n",
       "      <th>Parch</th>\n",
       "      <th>Ticket</th>\n",
       "      <th>Fare</th>\n",
       "      <th>Cabin</th>\n",
       "      <th>Embarked</th>\n",
       "    </tr>\n",
       "  </thead>\n",
       "  <tbody>\n",
       "    <tr>\n",
       "      <th>0</th>\n",
       "      <td>1</td>\n",
       "      <td>0</td>\n",
       "      <td>3</td>\n",
       "      <td>Braund, Mr. Owen Harris</td>\n",
       "      <td>male</td>\n",
       "      <td>22.0</td>\n",
       "      <td>1</td>\n",
       "      <td>0</td>\n",
       "      <td>A/5 21171</td>\n",
       "      <td>7.2500</td>\n",
       "      <td>NaN</td>\n",
       "      <td>S</td>\n",
       "    </tr>\n",
       "    <tr>\n",
       "      <th>1</th>\n",
       "      <td>2</td>\n",
       "      <td>1</td>\n",
       "      <td>1</td>\n",
       "      <td>Cumings, Mrs. John Bradley (Florence Briggs Th...</td>\n",
       "      <td>female</td>\n",
       "      <td>38.0</td>\n",
       "      <td>1</td>\n",
       "      <td>0</td>\n",
       "      <td>PC 17599</td>\n",
       "      <td>71.2833</td>\n",
       "      <td>C85</td>\n",
       "      <td>C</td>\n",
       "    </tr>\n",
       "    <tr>\n",
       "      <th>2</th>\n",
       "      <td>3</td>\n",
       "      <td>1</td>\n",
       "      <td>3</td>\n",
       "      <td>Heikkinen, Miss. Laina</td>\n",
       "      <td>female</td>\n",
       "      <td>26.0</td>\n",
       "      <td>0</td>\n",
       "      <td>0</td>\n",
       "      <td>STON/O2. 3101282</td>\n",
       "      <td>7.9250</td>\n",
       "      <td>NaN</td>\n",
       "      <td>S</td>\n",
       "    </tr>\n",
       "    <tr>\n",
       "      <th>3</th>\n",
       "      <td>4</td>\n",
       "      <td>1</td>\n",
       "      <td>1</td>\n",
       "      <td>Futrelle, Mrs. Jacques Heath (Lily May Peel)</td>\n",
       "      <td>female</td>\n",
       "      <td>35.0</td>\n",
       "      <td>1</td>\n",
       "      <td>0</td>\n",
       "      <td>113803</td>\n",
       "      <td>53.1000</td>\n",
       "      <td>C123</td>\n",
       "      <td>S</td>\n",
       "    </tr>\n",
       "    <tr>\n",
       "      <th>4</th>\n",
       "      <td>5</td>\n",
       "      <td>0</td>\n",
       "      <td>3</td>\n",
       "      <td>Allen, Mr. William Henry</td>\n",
       "      <td>male</td>\n",
       "      <td>35.0</td>\n",
       "      <td>0</td>\n",
       "      <td>0</td>\n",
       "      <td>373450</td>\n",
       "      <td>8.0500</td>\n",
       "      <td>NaN</td>\n",
       "      <td>S</td>\n",
       "    </tr>\n",
       "  </tbody>\n",
       "</table>\n",
       "</div>"
      ],
      "text/plain": [
       "   PassengerId  Survived  Pclass  \\\n",
       "0            1         0       3   \n",
       "1            2         1       1   \n",
       "2            3         1       3   \n",
       "3            4         1       1   \n",
       "4            5         0       3   \n",
       "\n",
       "                                                Name     Sex   Age  SibSp  \\\n",
       "0                            Braund, Mr. Owen Harris    male  22.0      1   \n",
       "1  Cumings, Mrs. John Bradley (Florence Briggs Th...  female  38.0      1   \n",
       "2                             Heikkinen, Miss. Laina  female  26.0      0   \n",
       "3       Futrelle, Mrs. Jacques Heath (Lily May Peel)  female  35.0      1   \n",
       "4                           Allen, Mr. William Henry    male  35.0      0   \n",
       "\n",
       "   Parch            Ticket     Fare Cabin Embarked  \n",
       "0      0         A/5 21171   7.2500   NaN        S  \n",
       "1      0          PC 17599  71.2833   C85        C  \n",
       "2      0  STON/O2. 3101282   7.9250   NaN        S  \n",
       "3      0            113803  53.1000  C123        S  \n",
       "4      0            373450   8.0500   NaN        S  "
      ]
     },
     "execution_count": 91,
     "metadata": {},
     "output_type": "execute_result"
    }
   ],
   "source": [
    "titanic.head()"
   ]
  },
  {
   "cell_type": "code",
   "execution_count": 92,
   "metadata": {},
   "outputs": [
    {
     "data": {
      "text/html": [
       "<div>\n",
       "<style scoped>\n",
       "    .dataframe tbody tr th:only-of-type {\n",
       "        vertical-align: middle;\n",
       "    }\n",
       "\n",
       "    .dataframe tbody tr th {\n",
       "        vertical-align: top;\n",
       "    }\n",
       "\n",
       "    .dataframe thead th {\n",
       "        text-align: right;\n",
       "    }\n",
       "</style>\n",
       "<table border=\"1\" class=\"dataframe\">\n",
       "  <thead>\n",
       "    <tr style=\"text-align: right;\">\n",
       "      <th></th>\n",
       "      <th>Survived</th>\n",
       "      <th>Pclass</th>\n",
       "      <th>Sex</th>\n",
       "      <th>Age</th>\n",
       "      <th>SibSp</th>\n",
       "      <th>Parch</th>\n",
       "      <th>Fare</th>\n",
       "    </tr>\n",
       "  </thead>\n",
       "  <tbody>\n",
       "    <tr>\n",
       "      <th>0</th>\n",
       "      <td>0</td>\n",
       "      <td>3</td>\n",
       "      <td>male</td>\n",
       "      <td>22.0</td>\n",
       "      <td>1</td>\n",
       "      <td>0</td>\n",
       "      <td>7.2500</td>\n",
       "    </tr>\n",
       "    <tr>\n",
       "      <th>1</th>\n",
       "      <td>1</td>\n",
       "      <td>1</td>\n",
       "      <td>female</td>\n",
       "      <td>38.0</td>\n",
       "      <td>1</td>\n",
       "      <td>0</td>\n",
       "      <td>71.2833</td>\n",
       "    </tr>\n",
       "    <tr>\n",
       "      <th>2</th>\n",
       "      <td>1</td>\n",
       "      <td>3</td>\n",
       "      <td>female</td>\n",
       "      <td>26.0</td>\n",
       "      <td>0</td>\n",
       "      <td>0</td>\n",
       "      <td>7.9250</td>\n",
       "    </tr>\n",
       "    <tr>\n",
       "      <th>3</th>\n",
       "      <td>1</td>\n",
       "      <td>1</td>\n",
       "      <td>female</td>\n",
       "      <td>35.0</td>\n",
       "      <td>1</td>\n",
       "      <td>0</td>\n",
       "      <td>53.1000</td>\n",
       "    </tr>\n",
       "    <tr>\n",
       "      <th>4</th>\n",
       "      <td>0</td>\n",
       "      <td>3</td>\n",
       "      <td>male</td>\n",
       "      <td>35.0</td>\n",
       "      <td>0</td>\n",
       "      <td>0</td>\n",
       "      <td>8.0500</td>\n",
       "    </tr>\n",
       "    <tr>\n",
       "      <th>...</th>\n",
       "      <td>...</td>\n",
       "      <td>...</td>\n",
       "      <td>...</td>\n",
       "      <td>...</td>\n",
       "      <td>...</td>\n",
       "      <td>...</td>\n",
       "      <td>...</td>\n",
       "    </tr>\n",
       "    <tr>\n",
       "      <th>886</th>\n",
       "      <td>0</td>\n",
       "      <td>2</td>\n",
       "      <td>male</td>\n",
       "      <td>27.0</td>\n",
       "      <td>0</td>\n",
       "      <td>0</td>\n",
       "      <td>13.0000</td>\n",
       "    </tr>\n",
       "    <tr>\n",
       "      <th>887</th>\n",
       "      <td>1</td>\n",
       "      <td>1</td>\n",
       "      <td>female</td>\n",
       "      <td>19.0</td>\n",
       "      <td>0</td>\n",
       "      <td>0</td>\n",
       "      <td>30.0000</td>\n",
       "    </tr>\n",
       "    <tr>\n",
       "      <th>888</th>\n",
       "      <td>0</td>\n",
       "      <td>3</td>\n",
       "      <td>female</td>\n",
       "      <td>NaN</td>\n",
       "      <td>1</td>\n",
       "      <td>2</td>\n",
       "      <td>23.4500</td>\n",
       "    </tr>\n",
       "    <tr>\n",
       "      <th>889</th>\n",
       "      <td>1</td>\n",
       "      <td>1</td>\n",
       "      <td>male</td>\n",
       "      <td>26.0</td>\n",
       "      <td>0</td>\n",
       "      <td>0</td>\n",
       "      <td>30.0000</td>\n",
       "    </tr>\n",
       "    <tr>\n",
       "      <th>890</th>\n",
       "      <td>0</td>\n",
       "      <td>3</td>\n",
       "      <td>male</td>\n",
       "      <td>32.0</td>\n",
       "      <td>0</td>\n",
       "      <td>0</td>\n",
       "      <td>7.7500</td>\n",
       "    </tr>\n",
       "  </tbody>\n",
       "</table>\n",
       "<p>891 rows × 7 columns</p>\n",
       "</div>"
      ],
      "text/plain": [
       "     Survived  Pclass     Sex   Age  SibSp  Parch     Fare\n",
       "0           0       3    male  22.0      1      0   7.2500\n",
       "1           1       1  female  38.0      1      0  71.2833\n",
       "2           1       3  female  26.0      0      0   7.9250\n",
       "3           1       1  female  35.0      1      0  53.1000\n",
       "4           0       3    male  35.0      0      0   8.0500\n",
       "..        ...     ...     ...   ...    ...    ...      ...\n",
       "886         0       2    male  27.0      0      0  13.0000\n",
       "887         1       1  female  19.0      0      0  30.0000\n",
       "888         0       3  female   NaN      1      2  23.4500\n",
       "889         1       1    male  26.0      0      0  30.0000\n",
       "890         0       3    male  32.0      0      0   7.7500\n",
       "\n",
       "[891 rows x 7 columns]"
      ]
     },
     "execution_count": 92,
     "metadata": {},
     "output_type": "execute_result"
    }
   ],
   "source": [
    "# Pretend we already know for sure that these are unimportant:\n",
    "unnecessary = [\"PassengerId\", \"Name\",\"SibSp\",\"Parch\",\"Ticket\", \"Cabin\", \"Embarked\"]\n",
    "unnecessary = [\"PassengerId\", \"Name\",\"Ticket\", \"Embarked\"]\n",
    "unnecessary = [\"PassengerId\", \"Name\",\"Ticket\", \"Embarked\", \"Cabin\"]\n",
    "\n",
    "titanic.drop(unnecessary, inplace=True, axis=1)\n",
    "titanic"
   ]
  },
  {
   "cell_type": "code",
   "execution_count": 93,
   "metadata": {},
   "outputs": [
    {
     "data": {
      "text/plain": [
       "Survived    False\n",
       "Pclass      False\n",
       "Sex         False\n",
       "Age          True\n",
       "SibSp       False\n",
       "Parch       False\n",
       "Fare        False\n",
       "dtype: bool"
      ]
     },
     "execution_count": 93,
     "metadata": {},
     "output_type": "execute_result"
    }
   ],
   "source": [
    "titanic.isnull().any()"
   ]
  },
  {
   "cell_type": "markdown",
   "metadata": {},
   "source": [
    "## Quickly figure out how to fill the missing values"
   ]
  },
  {
   "cell_type": "code",
   "execution_count": 94,
   "metadata": {},
   "outputs": [
    {
     "data": {
      "text/plain": [
       "<matplotlib.axes._subplots.AxesSubplot at 0x7f565e1f26d0>"
      ]
     },
     "execution_count": 94,
     "metadata": {},
     "output_type": "execute_result"
    },
    {
     "data": {
      "image/png": "[encoded data removed]",
      "text/plain": [
       "<Figure size 432x288 with 1 Axes>"
      ]
     },
     "metadata": {},
     "output_type": "display_data"
    }
   ],
   "source": [
    "sns.distplot(titanic.Age, norm_hist=False, kde=False)"
   ]
  },
  {
   "cell_type": "code",
   "execution_count": 95,
   "metadata": {},
   "outputs": [],
   "source": [
    "titanic.Age.fillna(titanic.Age.mean(), inplace=True)"
   ]
  },
  {
   "cell_type": "code",
   "execution_count": 96,
   "metadata": {},
   "outputs": [
    {
     "data": {
      "text/plain": [
       "<matplotlib.axes._subplots.AxesSubplot at 0x7f565dfa9590>"
      ]
     },
     "execution_count": 96,
     "metadata": {},
     "output_type": "execute_result"
    },
    {
     "data": {
      "image/png": "[encoded data removed]",
      "text/plain": [
       "<Figure size 720x720 with 1 Axes>"
      ]
     },
     "metadata": {},
     "output_type": "display_data"
    }
   ],
   "source": [
    "fig, ax = plt.subplots(1, 1, figsize=(10,10))\n",
    "titanic[\"Fare_cat\"] = pd.cut(titanic[\"Fare\"], bins = 7)\n",
    "sns.countplot(data=titanic, x = \"Fare_cat\", hue = \"Survived\", ax = ax)"
   ]
  },
  {
   "cell_type": "code",
   "execution_count": 97,
   "metadata": {},
   "outputs": [
    {
     "data": {
      "text/plain": [
       "<matplotlib.axes._subplots.AxesSubplot at 0x7f565decf790>"
      ]
     },
     "execution_count": 97,
     "metadata": {},
     "output_type": "execute_result"
    },
    {
     "data": {
      "image/png": "[encoded data removed]",
      "text/plain": [
       "<Figure size 720x720 with 1 Axes>"
      ]
     },
     "metadata": {},
     "output_type": "display_data"
    }
   ],
   "source": [
    "fig, ax = plt.subplots(1, 1, figsize=(10,10))\n",
    "titanic[\"Age_cat\"] = pd.cut(titanic[\"Age\"].astype(int), bins = 4)\n",
    "sns.countplot(data=titanic, x = \"Age_cat\", hue = \"Survived\", ax = ax)"
   ]
  },
  {
   "cell_type": "markdown",
   "metadata": {},
   "source": [
    "# Make Pipelines"
   ]
  },
  {
   "cell_type": "code",
   "execution_count": 98,
   "metadata": {},
   "outputs": [],
   "source": [
    "class CabinLetterOnly(BaseEstimator, TransformerMixin):\n",
    "    def __init__(self):\n",
    "        pass\n",
    "    def fit(self, X, y = None):\n",
    "        return self\n",
    "    def transform(self, X):\n",
    "        df = pd.DataFrame(X, index=titanic.index, columns=titanic.columns)\n",
    "        s_cabin_letters = df.Cabin.str.extract(\"^([A-Z]).*\", expand = False)\n",
    "        return np.c_[df.to_numpy(), s_cabin_letters]\n",
    "\n",
    "sex_pip = Pipeline([\n",
    "    ('one_hot', OneHotEncoder(categories=[titanic.Sex]))\n",
    "])\n",
    "\n",
    "fare_pip = Pipeline([\n",
    "    (\"fare_mean\", SimpleImputer(strategy=\"mean\")),\n",
    "    ('fare_std', StandardScaler())\n",
    "])\n",
    "\n",
    "pclass_pip = Pipeline([\n",
    "    ('pclass_std', StandardScaler())\n",
    "])\n",
    "\n",
    "age_pip = Pipeline([\n",
    "    ('age_std', StandardScaler())\n",
    "])\n",
    "\n",
    "parch_pip = Pipeline([\n",
    "    ('parch_std', StandardScaler())\n",
    "])\n",
    "\n",
    "sibsp_pip = Pipeline([\n",
    "    ('sibsp_std', StandardScaler())\n",
    "])\n",
    "\n",
    "add_attrs = Pipeline([\n",
    "    (\"cabin_fill\", SimpleImputer(strategy=\"most_frequent\")),\n",
    "    (\"add_cabin_letters\", CabinLetterOnly())\n",
    "])\n",
    "\n",
    "# new = add_attrs.fit_transform(titanic.values)\n",
    "# titanic = pd.DataFrame(new, index=titanic.index, columns=titanic.columns.union(pd.Index([\"Cabin_letter\"]), sort=False))\n",
    "# titanic.drop([\"Cabin\"], axis=1, inplace=True)\n",
    "\n",
    "# cabin_pip = Pipeline([\n",
    "#     ('cabin_1hot', OneHotEncoder(categories=[titanic.Cabin_letter]))\n",
    "# ])\n",
    "\n",
    "attr_pip = ColumnTransformer([\n",
    "    #(\"passthrough\", \"passthrough\", [\"Pclass\"]),\n",
    "    (\"pclass\", pclass_pip, [\"Pclass\"]),\n",
    "    (\"sex\", sex_pip, [\"Sex\"]),\n",
    "    (\"fare\", fare_pip, [\"Fare\"]),\n",
    "    (\"age\", fare_pip, [\"Age\"]),\n",
    "    (\"parch\", parch_pip, [\"Parch\"]),\n",
    "    (\"sibsp\", sibsp_pip, [\"SibSp\"]),\n",
    "    #(\"cabin_add\", add_attrs, [\"Cabin\"]),\n",
    "    #(\"cabin_trans\", cabin_pip, [\"Cabin_letter\"]),\n",
    "], remainder=\"drop\")\n",
    "\n",
    "\n",
    "### models ###\n",
    "\n",
    "lin_reg_pip = Pipeline([\n",
    "    (\"attr_pip\", attr_pip),\n",
    "    ('lin_reg', LinearRegression())\n",
    "])\n",
    "\n",
    "log_reg_pip = Pipeline([\n",
    "    (\"attr_pip\", attr_pip),\n",
    "    ('log_reg', LogisticRegression(multi_class=\"multinomial\"))\n",
    "])\n",
    "\n",
    "sgd_clf_pip = Pipeline([\n",
    "    (\"attr_pip\", attr_pip),\n",
    "    ('sgd_clf', SGDClassifier(random_state=42))\n",
    "])\n",
    "\n",
    "dectree_clf_pip = Pipeline([\n",
    "    (\"attr_pip\", attr_pip),\n",
    "    ('dec_tree', DecisionTreeClassifier(random_state=42))\n",
    "])\n",
    "\n",
    "rndforest_clf_pip = Pipeline([\n",
    "    (\"attr_pip\", attr_pip),\n",
    "    ('rnd_forest', RandomForestClassifier(random_state=42))\n",
    "])\n",
    "\n",
    "lin_svc_pip = Pipeline([\n",
    "    (\"attr_pip\", attr_pip),\n",
    "    ('lin_svc', LinearSVC(C = 10, loss = \"hinge\"))\n",
    "])\n",
    "\n",
    "svc_pip = Pipeline([\n",
    "    (\"attr_pip\", attr_pip),\n",
    "    ('lin_svc', SVC(C = 10))\n",
    "])"
   ]
  },
  {
   "cell_type": "markdown",
   "metadata": {},
   "source": [
    "# Create train and dev test sets now to avoid data snooping bias"
   ]
  },
  {
   "cell_type": "code",
   "execution_count": 99,
   "metadata": {},
   "outputs": [],
   "source": [
    "split = StratifiedShuffleSplit(n_splits=1, test_size=0.1, random_state=42)"
   ]
  },
  {
   "cell_type": "markdown",
   "metadata": {},
   "source": [
    "## Stratify on Pclass column for now. Maybe there is better."
   ]
  },
  {
   "cell_type": "code",
   "execution_count": 100,
   "metadata": {},
   "outputs": [],
   "source": [
    "for train_ix, test_ix in split.split(titanic, titanic[\"Sex\"]):\n",
    "    strat_train = titanic.loc[train_ix]\n",
    "    strat_devtest = titanic.loc[test_ix]"
   ]
  },
  {
   "cell_type": "markdown",
   "metadata": {},
   "source": [
    "# What is worth including in the classification?"
   ]
  },
  {
   "cell_type": "code",
   "execution_count": 101,
   "metadata": {},
   "outputs": [
    {
     "data": {
      "text/html": [
       "<div>\n",
       "<style scoped>\n",
       "    .dataframe tbody tr th:only-of-type {\n",
       "        vertical-align: middle;\n",
       "    }\n",
       "\n",
       "    .dataframe tbody tr th {\n",
       "        vertical-align: top;\n",
       "    }\n",
       "\n",
       "    .dataframe thead th {\n",
       "        text-align: right;\n",
       "    }\n",
       "</style>\n",
       "<table border=\"1\" class=\"dataframe\">\n",
       "  <thead>\n",
       "    <tr style=\"text-align: right;\">\n",
       "      <th></th>\n",
       "      <th>Survived</th>\n",
       "      <th>Pclass</th>\n",
       "      <th>Age</th>\n",
       "      <th>SibSp</th>\n",
       "      <th>Parch</th>\n",
       "      <th>Fare</th>\n",
       "      <th>Sex_female</th>\n",
       "      <th>Sex_male</th>\n",
       "      <th>Fare_cat_(-0.512, 73.19]</th>\n",
       "      <th>Fare_cat_(73.19, 146.38]</th>\n",
       "      <th>Fare_cat_(146.38, 219.57]</th>\n",
       "      <th>Fare_cat_(219.57, 292.76]</th>\n",
       "      <th>Fare_cat_(292.76, 365.949]</th>\n",
       "      <th>Fare_cat_(365.949, 439.139]</th>\n",
       "      <th>Fare_cat_(439.139, 512.329]</th>\n",
       "      <th>Age_cat_(-0.08, 20.0]</th>\n",
       "      <th>Age_cat_(20.0, 40.0]</th>\n",
       "      <th>Age_cat_(40.0, 60.0]</th>\n",
       "      <th>Age_cat_(60.0, 80.0]</th>\n",
       "    </tr>\n",
       "  </thead>\n",
       "  <tbody>\n",
       "    <tr>\n",
       "      <th>Survived</th>\n",
       "      <td>1.000000</td>\n",
       "      <td>-0.321606</td>\n",
       "      <td>-0.069136</td>\n",
       "      <td>-0.030093</td>\n",
       "      <td>0.080216</td>\n",
       "      <td>0.256008</td>\n",
       "      <td>0.554241</td>\n",
       "      <td>-0.554241</td>\n",
       "      <td>-0.249174</td>\n",
       "      <td>0.201580</td>\n",
       "      <td>0.098637</td>\n",
       "      <td>0.060747</td>\n",
       "      <td>NaN</td>\n",
       "      <td>NaN</td>\n",
       "      <td>0.077368</td>\n",
       "      <td>0.067079</td>\n",
       "      <td>-0.046826</td>\n",
       "      <td>0.010376</td>\n",
       "      <td>-0.049777</td>\n",
       "    </tr>\n",
       "    <tr>\n",
       "      <th>Pclass</th>\n",
       "      <td>-0.321606</td>\n",
       "      <td>1.000000</td>\n",
       "      <td>-0.346894</td>\n",
       "      <td>0.078769</td>\n",
       "      <td>0.008480</td>\n",
       "      <td>-0.550764</td>\n",
       "      <td>-0.119962</td>\n",
       "      <td>0.119962</td>\n",
       "      <td>0.546895</td>\n",
       "      <td>-0.436092</td>\n",
       "      <td>-0.217327</td>\n",
       "      <td>-0.185636</td>\n",
       "      <td>NaN</td>\n",
       "      <td>NaN</td>\n",
       "      <td>-0.096458</td>\n",
       "      <td>0.173105</td>\n",
       "      <td>0.101524</td>\n",
       "      <td>-0.277728</td>\n",
       "      <td>-0.136808</td>\n",
       "    </tr>\n",
       "    <tr>\n",
       "      <th>Age</th>\n",
       "      <td>-0.069136</td>\n",
       "      <td>-0.346894</td>\n",
       "      <td>1.000000</td>\n",
       "      <td>-0.247016</td>\n",
       "      <td>-0.163588</td>\n",
       "      <td>0.088123</td>\n",
       "      <td>-0.093599</td>\n",
       "      <td>0.093599</td>\n",
       "      <td>-0.112492</td>\n",
       "      <td>0.123574</td>\n",
       "      <td>0.011847</td>\n",
       "      <td>-0.005691</td>\n",
       "      <td>NaN</td>\n",
       "      <td>NaN</td>\n",
       "      <td>0.025993</td>\n",
       "      <td>-0.653357</td>\n",
       "      <td>-0.030000</td>\n",
       "      <td>0.585863</td>\n",
       "      <td>0.456755</td>\n",
       "    </tr>\n",
       "    <tr>\n",
       "      <th>SibSp</th>\n",
       "      <td>-0.030093</td>\n",
       "      <td>0.078769</td>\n",
       "      <td>-0.247016</td>\n",
       "      <td>1.000000</td>\n",
       "      <td>0.417869</td>\n",
       "      <td>0.160727</td>\n",
       "      <td>0.130699</td>\n",
       "      <td>-0.130699</td>\n",
       "      <td>-0.044636</td>\n",
       "      <td>0.034822</td>\n",
       "      <td>-0.025766</td>\n",
       "      <td>0.087407</td>\n",
       "      <td>NaN</td>\n",
       "      <td>NaN</td>\n",
       "      <td>-0.029830</td>\n",
       "      <td>0.252943</td>\n",
       "      <td>-0.144299</td>\n",
       "      <td>-0.064829</td>\n",
       "      <td>-0.058731</td>\n",
       "    </tr>\n",
       "    <tr>\n",
       "      <th>Parch</th>\n",
       "      <td>0.080216</td>\n",
       "      <td>0.008480</td>\n",
       "      <td>-0.163588</td>\n",
       "      <td>0.417869</td>\n",
       "      <td>1.000000</td>\n",
       "      <td>0.225094</td>\n",
       "      <td>0.245935</td>\n",
       "      <td>-0.245935</td>\n",
       "      <td>-0.106570</td>\n",
       "      <td>0.013915</td>\n",
       "      <td>0.104215</td>\n",
       "      <td>0.141506</td>\n",
       "      <td>NaN</td>\n",
       "      <td>NaN</td>\n",
       "      <td>-0.003745</td>\n",
       "      <td>0.216364</td>\n",
       "      <td>-0.172592</td>\n",
       "      <td>-0.001358</td>\n",
       "      <td>-0.019580</td>\n",
       "    </tr>\n",
       "    <tr>\n",
       "      <th>Fare</th>\n",
       "      <td>0.256008</td>\n",
       "      <td>-0.550764</td>\n",
       "      <td>0.088123</td>\n",
       "      <td>0.160727</td>\n",
       "      <td>0.225094</td>\n",
       "      <td>1.000000</td>\n",
       "      <td>0.177242</td>\n",
       "      <td>-0.177242</td>\n",
       "      <td>-0.750917</td>\n",
       "      <td>0.354605</td>\n",
       "      <td>0.372264</td>\n",
       "      <td>0.502267</td>\n",
       "      <td>NaN</td>\n",
       "      <td>NaN</td>\n",
       "      <td>0.581047</td>\n",
       "      <td>-0.023373</td>\n",
       "      <td>-0.047940</td>\n",
       "      <td>0.079298</td>\n",
       "      <td>0.030819</td>\n",
       "    </tr>\n",
       "    <tr>\n",
       "      <th>Sex_female</th>\n",
       "      <td>0.554241</td>\n",
       "      <td>-0.119962</td>\n",
       "      <td>-0.093599</td>\n",
       "      <td>0.130699</td>\n",
       "      <td>0.245935</td>\n",
       "      <td>0.177242</td>\n",
       "      <td>1.000000</td>\n",
       "      <td>-1.000000</td>\n",
       "      <td>-0.189778</td>\n",
       "      <td>0.129840</td>\n",
       "      <td>0.129562</td>\n",
       "      <td>0.070241</td>\n",
       "      <td>NaN</td>\n",
       "      <td>NaN</td>\n",
       "      <td>-0.002404</td>\n",
       "      <td>0.071364</td>\n",
       "      <td>-0.025941</td>\n",
       "      <td>-0.013387</td>\n",
       "      <td>-0.071871</td>\n",
       "    </tr>\n",
       "    <tr>\n",
       "      <th>Sex_male</th>\n",
       "      <td>-0.554241</td>\n",
       "      <td>0.119962</td>\n",
       "      <td>0.093599</td>\n",
       "      <td>-0.130699</td>\n",
       "      <td>-0.245935</td>\n",
       "      <td>-0.177242</td>\n",
       "      <td>-1.000000</td>\n",
       "      <td>1.000000</td>\n",
       "      <td>0.189778</td>\n",
       "      <td>-0.129840</td>\n",
       "      <td>-0.129562</td>\n",
       "      <td>-0.070241</td>\n",
       "      <td>NaN</td>\n",
       "      <td>NaN</td>\n",
       "      <td>0.002404</td>\n",
       "      <td>-0.071364</td>\n",
       "      <td>0.025941</td>\n",
       "      <td>0.013387</td>\n",
       "      <td>0.071871</td>\n",
       "    </tr>\n",
       "    <tr>\n",
       "      <th>Fare_cat_(-0.512, 73.19]</th>\n",
       "      <td>-0.249174</td>\n",
       "      <td>0.546895</td>\n",
       "      <td>-0.112492</td>\n",
       "      <td>-0.044636</td>\n",
       "      <td>-0.106570</td>\n",
       "      <td>-0.750917</td>\n",
       "      <td>-0.189778</td>\n",
       "      <td>0.189778</td>\n",
       "      <td>1.000000</td>\n",
       "      <td>-0.813076</td>\n",
       "      <td>-0.381162</td>\n",
       "      <td>-0.325580</td>\n",
       "      <td>NaN</td>\n",
       "      <td>NaN</td>\n",
       "      <td>-0.169174</td>\n",
       "      <td>0.036955</td>\n",
       "      <td>0.053554</td>\n",
       "      <td>-0.110613</td>\n",
       "      <td>-0.013702</td>\n",
       "    </tr>\n",
       "    <tr>\n",
       "      <th>Fare_cat_(73.19, 146.38]</th>\n",
       "      <td>0.201580</td>\n",
       "      <td>-0.436092</td>\n",
       "      <td>0.123574</td>\n",
       "      <td>0.034822</td>\n",
       "      <td>0.013915</td>\n",
       "      <td>0.354605</td>\n",
       "      <td>0.129840</td>\n",
       "      <td>-0.129840</td>\n",
       "      <td>-0.813076</td>\n",
       "      <td>1.000000</td>\n",
       "      <td>-0.040709</td>\n",
       "      <td>-0.034773</td>\n",
       "      <td>NaN</td>\n",
       "      <td>NaN</td>\n",
       "      <td>-0.018068</td>\n",
       "      <td>-0.045208</td>\n",
       "      <td>-0.051031</td>\n",
       "      <td>0.118667</td>\n",
       "      <td>0.009282</td>\n",
       "    </tr>\n",
       "    <tr>\n",
       "      <th>Fare_cat_(146.38, 219.57]</th>\n",
       "      <td>0.098637</td>\n",
       "      <td>-0.217327</td>\n",
       "      <td>0.011847</td>\n",
       "      <td>-0.025766</td>\n",
       "      <td>0.104215</td>\n",
       "      <td>0.372264</td>\n",
       "      <td>0.129562</td>\n",
       "      <td>-0.129562</td>\n",
       "      <td>-0.381162</td>\n",
       "      <td>-0.040709</td>\n",
       "      <td>1.000000</td>\n",
       "      <td>-0.016301</td>\n",
       "      <td>NaN</td>\n",
       "      <td>NaN</td>\n",
       "      <td>-0.008470</td>\n",
       "      <td>-0.000773</td>\n",
       "      <td>-0.027799</td>\n",
       "      <td>0.049842</td>\n",
       "      <td>-0.022667</td>\n",
       "    </tr>\n",
       "    <tr>\n",
       "      <th>Fare_cat_(219.57, 292.76]</th>\n",
       "      <td>0.060747</td>\n",
       "      <td>-0.185636</td>\n",
       "      <td>-0.005691</td>\n",
       "      <td>0.087407</td>\n",
       "      <td>0.141506</td>\n",
       "      <td>0.502267</td>\n",
       "      <td>0.070241</td>\n",
       "      <td>-0.070241</td>\n",
       "      <td>-0.325580</td>\n",
       "      <td>-0.034773</td>\n",
       "      <td>-0.016301</td>\n",
       "      <td>1.000000</td>\n",
       "      <td>NaN</td>\n",
       "      <td>NaN</td>\n",
       "      <td>-0.007235</td>\n",
       "      <td>0.020705</td>\n",
       "      <td>-0.020782</td>\n",
       "      <td>-0.017005</td>\n",
       "      <td>0.047776</td>\n",
       "    </tr>\n",
       "    <tr>\n",
       "      <th>Fare_cat_(292.76, 365.949]</th>\n",
       "      <td>NaN</td>\n",
       "      <td>NaN</td>\n",
       "      <td>NaN</td>\n",
       "      <td>NaN</td>\n",
       "      <td>NaN</td>\n",
       "      <td>NaN</td>\n",
       "      <td>NaN</td>\n",
       "      <td>NaN</td>\n",
       "      <td>NaN</td>\n",
       "      <td>NaN</td>\n",
       "      <td>NaN</td>\n",
       "      <td>NaN</td>\n",
       "      <td>NaN</td>\n",
       "      <td>NaN</td>\n",
       "      <td>NaN</td>\n",
       "      <td>NaN</td>\n",
       "      <td>NaN</td>\n",
       "      <td>NaN</td>\n",
       "      <td>NaN</td>\n",
       "    </tr>\n",
       "    <tr>\n",
       "      <th>Fare_cat_(365.949, 439.139]</th>\n",
       "      <td>NaN</td>\n",
       "      <td>NaN</td>\n",
       "      <td>NaN</td>\n",
       "      <td>NaN</td>\n",
       "      <td>NaN</td>\n",
       "      <td>NaN</td>\n",
       "      <td>NaN</td>\n",
       "      <td>NaN</td>\n",
       "      <td>NaN</td>\n",
       "      <td>NaN</td>\n",
       "      <td>NaN</td>\n",
       "      <td>NaN</td>\n",
       "      <td>NaN</td>\n",
       "      <td>NaN</td>\n",
       "      <td>NaN</td>\n",
       "      <td>NaN</td>\n",
       "      <td>NaN</td>\n",
       "      <td>NaN</td>\n",
       "      <td>NaN</td>\n",
       "    </tr>\n",
       "    <tr>\n",
       "      <th>Fare_cat_(439.139, 512.329]</th>\n",
       "      <td>0.077368</td>\n",
       "      <td>-0.096458</td>\n",
       "      <td>0.025993</td>\n",
       "      <td>-0.029830</td>\n",
       "      <td>-0.003745</td>\n",
       "      <td>0.581047</td>\n",
       "      <td>-0.002404</td>\n",
       "      <td>0.002404</td>\n",
       "      <td>-0.169174</td>\n",
       "      <td>-0.018068</td>\n",
       "      <td>-0.008470</td>\n",
       "      <td>-0.007235</td>\n",
       "      <td>NaN</td>\n",
       "      <td>NaN</td>\n",
       "      <td>1.000000</td>\n",
       "      <td>-0.030872</td>\n",
       "      <td>0.046942</td>\n",
       "      <td>-0.024849</td>\n",
       "      <td>-0.010061</td>\n",
       "    </tr>\n",
       "    <tr>\n",
       "      <th>Age_cat_(-0.08, 20.0]</th>\n",
       "      <td>0.067079</td>\n",
       "      <td>0.173105</td>\n",
       "      <td>-0.653357</td>\n",
       "      <td>0.252943</td>\n",
       "      <td>0.216364</td>\n",
       "      <td>-0.023373</td>\n",
       "      <td>0.071364</td>\n",
       "      <td>-0.071364</td>\n",
       "      <td>0.036955</td>\n",
       "      <td>-0.045208</td>\n",
       "      <td>-0.000773</td>\n",
       "      <td>0.020705</td>\n",
       "      <td>NaN</td>\n",
       "      <td>NaN</td>\n",
       "      <td>-0.030872</td>\n",
       "      <td>1.000000</td>\n",
       "      <td>-0.657668</td>\n",
       "      <td>-0.204057</td>\n",
       "      <td>-0.082617</td>\n",
       "    </tr>\n",
       "    <tr>\n",
       "      <th>Age_cat_(20.0, 40.0]</th>\n",
       "      <td>-0.046826</td>\n",
       "      <td>0.101524</td>\n",
       "      <td>-0.030000</td>\n",
       "      <td>-0.144299</td>\n",
       "      <td>-0.172592</td>\n",
       "      <td>-0.047940</td>\n",
       "      <td>-0.025941</td>\n",
       "      <td>0.025941</td>\n",
       "      <td>0.053554</td>\n",
       "      <td>-0.051031</td>\n",
       "      <td>-0.027799</td>\n",
       "      <td>-0.020782</td>\n",
       "      <td>NaN</td>\n",
       "      <td>NaN</td>\n",
       "      <td>0.046942</td>\n",
       "      <td>-0.657668</td>\n",
       "      <td>1.000000</td>\n",
       "      <td>-0.529352</td>\n",
       "      <td>-0.214320</td>\n",
       "    </tr>\n",
       "    <tr>\n",
       "      <th>Age_cat_(40.0, 60.0]</th>\n",
       "      <td>0.010376</td>\n",
       "      <td>-0.277728</td>\n",
       "      <td>0.585863</td>\n",
       "      <td>-0.064829</td>\n",
       "      <td>-0.001358</td>\n",
       "      <td>0.079298</td>\n",
       "      <td>-0.013387</td>\n",
       "      <td>0.013387</td>\n",
       "      <td>-0.110613</td>\n",
       "      <td>0.118667</td>\n",
       "      <td>0.049842</td>\n",
       "      <td>-0.017005</td>\n",
       "      <td>NaN</td>\n",
       "      <td>NaN</td>\n",
       "      <td>-0.024849</td>\n",
       "      <td>-0.204057</td>\n",
       "      <td>-0.529352</td>\n",
       "      <td>1.000000</td>\n",
       "      <td>-0.066498</td>\n",
       "    </tr>\n",
       "    <tr>\n",
       "      <th>Age_cat_(60.0, 80.0]</th>\n",
       "      <td>-0.049777</td>\n",
       "      <td>-0.136808</td>\n",
       "      <td>0.456755</td>\n",
       "      <td>-0.058731</td>\n",
       "      <td>-0.019580</td>\n",
       "      <td>0.030819</td>\n",
       "      <td>-0.071871</td>\n",
       "      <td>0.071871</td>\n",
       "      <td>-0.013702</td>\n",
       "      <td>0.009282</td>\n",
       "      <td>-0.022667</td>\n",
       "      <td>0.047776</td>\n",
       "      <td>NaN</td>\n",
       "      <td>NaN</td>\n",
       "      <td>-0.010061</td>\n",
       "      <td>-0.082617</td>\n",
       "      <td>-0.214320</td>\n",
       "      <td>-0.066498</td>\n",
       "      <td>1.000000</td>\n",
       "    </tr>\n",
       "  </tbody>\n",
       "</table>\n",
       "</div>"
      ],
      "text/plain": [
       "                             Survived    Pclass       Age     SibSp     Parch  \\\n",
       "Survived                     1.000000 -0.321606 -0.069136 -0.030093  0.080216   \n",
       "Pclass                      -0.321606  1.000000 -0.346894  0.078769  0.008480   \n",
       "Age                         -0.069136 -0.346894  1.000000 -0.247016 -0.163588   \n",
       "SibSp                       -0.030093  0.078769 -0.247016  1.000000  0.417869   \n",
       "Parch                        0.080216  0.008480 -0.163588  0.417869  1.000000   \n",
       "Fare                         0.256008 -0.550764  0.088123  0.160727  0.225094   \n",
       "Sex_female                   0.554241 -0.119962 -0.093599  0.130699  0.245935   \n",
       "Sex_male                    -0.554241  0.119962  0.093599 -0.130699 -0.245935   \n",
       "Fare_cat_(-0.512, 73.19]    -0.249174  0.546895 -0.112492 -0.044636 -0.106570   \n",
       "Fare_cat_(73.19, 146.38]     0.201580 -0.436092  0.123574  0.034822  0.013915   \n",
       "Fare_cat_(146.38, 219.57]    0.098637 -0.217327  0.011847 -0.025766  0.104215   \n",
       "Fare_cat_(219.57, 292.76]    0.060747 -0.185636 -0.005691  0.087407  0.141506   \n",
       "Fare_cat_(292.76, 365.949]        NaN       NaN       NaN       NaN       NaN   \n",
       "Fare_cat_(365.949, 439.139]       NaN       NaN       NaN       NaN       NaN   \n",
       "Fare_cat_(439.139, 512.329]  0.077368 -0.096458  0.025993 -0.029830 -0.003745   \n",
       "Age_cat_(-0.08, 20.0]        0.067079  0.173105 -0.653357  0.252943  0.216364   \n",
       "Age_cat_(20.0, 40.0]        -0.046826  0.101524 -0.030000 -0.144299 -0.172592   \n",
       "Age_cat_(40.0, 60.0]         0.010376 -0.277728  0.585863 -0.064829 -0.001358   \n",
       "Age_cat_(60.0, 80.0]        -0.049777 -0.136808  0.456755 -0.058731 -0.019580   \n",
       "\n",
       "                                 Fare  Sex_female  Sex_male  \\\n",
       "Survived                     0.256008    0.554241 -0.554241   \n",
       "Pclass                      -0.550764   -0.119962  0.119962   \n",
       "Age                          0.088123   -0.093599  0.093599   \n",
       "SibSp                        0.160727    0.130699 -0.130699   \n",
       "Parch                        0.225094    0.245935 -0.245935   \n",
       "Fare                         1.000000    0.177242 -0.177242   \n",
       "Sex_female                   0.177242    1.000000 -1.000000   \n",
       "Sex_male                    -0.177242   -1.000000  1.000000   \n",
       "Fare_cat_(-0.512, 73.19]    -0.750917   -0.189778  0.189778   \n",
       "Fare_cat_(73.19, 146.38]     0.354605    0.129840 -0.129840   \n",
       "Fare_cat_(146.38, 219.57]    0.372264    0.129562 -0.129562   \n",
       "Fare_cat_(219.57, 292.76]    0.502267    0.070241 -0.070241   \n",
       "Fare_cat_(292.76, 365.949]        NaN         NaN       NaN   \n",
       "Fare_cat_(365.949, 439.139]       NaN         NaN       NaN   \n",
       "Fare_cat_(439.139, 512.329]  0.581047   -0.002404  0.002404   \n",
       "Age_cat_(-0.08, 20.0]       -0.023373    0.071364 -0.071364   \n",
       "Age_cat_(20.0, 40.0]        -0.047940   -0.025941  0.025941   \n",
       "Age_cat_(40.0, 60.0]         0.079298   -0.013387  0.013387   \n",
       "Age_cat_(60.0, 80.0]         0.030819   -0.071871  0.071871   \n",
       "\n",
       "                             Fare_cat_(-0.512, 73.19]  \\\n",
       "Survived                                    -0.249174   \n",
       "Pclass                                       0.546895   \n",
       "Age                                         -0.112492   \n",
       "SibSp                                       -0.044636   \n",
       "Parch                                       -0.106570   \n",
       "Fare                                        -0.750917   \n",
       "Sex_female                                  -0.189778   \n",
       "Sex_male                                     0.189778   \n",
       "Fare_cat_(-0.512, 73.19]                     1.000000   \n",
       "Fare_cat_(73.19, 146.38]                    -0.813076   \n",
       "Fare_cat_(146.38, 219.57]                   -0.381162   \n",
       "Fare_cat_(219.57, 292.76]                   -0.325580   \n",
       "Fare_cat_(292.76, 365.949]                        NaN   \n",
       "Fare_cat_(365.949, 439.139]                       NaN   \n",
       "Fare_cat_(439.139, 512.329]                 -0.169174   \n",
       "Age_cat_(-0.08, 20.0]                        0.036955   \n",
       "Age_cat_(20.0, 40.0]                         0.053554   \n",
       "Age_cat_(40.0, 60.0]                        -0.110613   \n",
       "Age_cat_(60.0, 80.0]                        -0.013702   \n",
       "\n",
       "                             Fare_cat_(73.19, 146.38]  \\\n",
       "Survived                                     0.201580   \n",
       "Pclass                                      -0.436092   \n",
       "Age                                          0.123574   \n",
       "SibSp                                        0.034822   \n",
       "Parch                                        0.013915   \n",
       "Fare                                         0.354605   \n",
       "Sex_female                                   0.129840   \n",
       "Sex_male                                    -0.129840   \n",
       "Fare_cat_(-0.512, 73.19]                    -0.813076   \n",
       "Fare_cat_(73.19, 146.38]                     1.000000   \n",
       "Fare_cat_(146.38, 219.57]                   -0.040709   \n",
       "Fare_cat_(219.57, 292.76]                   -0.034773   \n",
       "Fare_cat_(292.76, 365.949]                        NaN   \n",
       "Fare_cat_(365.949, 439.139]                       NaN   \n",
       "Fare_cat_(439.139, 512.329]                 -0.018068   \n",
       "Age_cat_(-0.08, 20.0]                       -0.045208   \n",
       "Age_cat_(20.0, 40.0]                        -0.051031   \n",
       "Age_cat_(40.0, 60.0]                         0.118667   \n",
       "Age_cat_(60.0, 80.0]                         0.009282   \n",
       "\n",
       "                             Fare_cat_(146.38, 219.57]  \\\n",
       "Survived                                      0.098637   \n",
       "Pclass                                       -0.217327   \n",
       "Age                                           0.011847   \n",
       "SibSp                                        -0.025766   \n",
       "Parch                                         0.104215   \n",
       "Fare                                          0.372264   \n",
       "Sex_female                                    0.129562   \n",
       "Sex_male                                     -0.129562   \n",
       "Fare_cat_(-0.512, 73.19]                     -0.381162   \n",
       "Fare_cat_(73.19, 146.38]                     -0.040709   \n",
       "Fare_cat_(146.38, 219.57]                     1.000000   \n",
       "Fare_cat_(219.57, 292.76]                    -0.016301   \n",
       "Fare_cat_(292.76, 365.949]                         NaN   \n",
       "Fare_cat_(365.949, 439.139]                        NaN   \n",
       "Fare_cat_(439.139, 512.329]                  -0.008470   \n",
       "Age_cat_(-0.08, 20.0]                        -0.000773   \n",
       "Age_cat_(20.0, 40.0]                         -0.027799   \n",
       "Age_cat_(40.0, 60.0]                          0.049842   \n",
       "Age_cat_(60.0, 80.0]                         -0.022667   \n",
       "\n",
       "                             Fare_cat_(219.57, 292.76]  \\\n",
       "Survived                                      0.060747   \n",
       "Pclass                                       -0.185636   \n",
       "Age                                          -0.005691   \n",
       "SibSp                                         0.087407   \n",
       "Parch                                         0.141506   \n",
       "Fare                                          0.502267   \n",
       "Sex_female                                    0.070241   \n",
       "Sex_male                                     -0.070241   \n",
       "Fare_cat_(-0.512, 73.19]                     -0.325580   \n",
       "Fare_cat_(73.19, 146.38]                     -0.034773   \n",
       "Fare_cat_(146.38, 219.57]                    -0.016301   \n",
       "Fare_cat_(219.57, 292.76]                     1.000000   \n",
       "Fare_cat_(292.76, 365.949]                         NaN   \n",
       "Fare_cat_(365.949, 439.139]                        NaN   \n",
       "Fare_cat_(439.139, 512.329]                  -0.007235   \n",
       "Age_cat_(-0.08, 20.0]                         0.020705   \n",
       "Age_cat_(20.0, 40.0]                         -0.020782   \n",
       "Age_cat_(40.0, 60.0]                         -0.017005   \n",
       "Age_cat_(60.0, 80.0]                          0.047776   \n",
       "\n",
       "                             Fare_cat_(292.76, 365.949]  \\\n",
       "Survived                                            NaN   \n",
       "Pclass                                              NaN   \n",
       "Age                                                 NaN   \n",
       "SibSp                                               NaN   \n",
       "Parch                                               NaN   \n",
       "Fare                                                NaN   \n",
       "Sex_female                                          NaN   \n",
       "Sex_male                                            NaN   \n",
       "Fare_cat_(-0.512, 73.19]                            NaN   \n",
       "Fare_cat_(73.19, 146.38]                            NaN   \n",
       "Fare_cat_(146.38, 219.57]                           NaN   \n",
       "Fare_cat_(219.57, 292.76]                           NaN   \n",
       "Fare_cat_(292.76, 365.949]                          NaN   \n",
       "Fare_cat_(365.949, 439.139]                         NaN   \n",
       "Fare_cat_(439.139, 512.329]                         NaN   \n",
       "Age_cat_(-0.08, 20.0]                               NaN   \n",
       "Age_cat_(20.0, 40.0]                                NaN   \n",
       "Age_cat_(40.0, 60.0]                                NaN   \n",
       "Age_cat_(60.0, 80.0]                                NaN   \n",
       "\n",
       "                             Fare_cat_(365.949, 439.139]  \\\n",
       "Survived                                             NaN   \n",
       "Pclass                                               NaN   \n",
       "Age                                                  NaN   \n",
       "SibSp                                                NaN   \n",
       "Parch                                                NaN   \n",
       "Fare                                                 NaN   \n",
       "Sex_female                                           NaN   \n",
       "Sex_male                                             NaN   \n",
       "Fare_cat_(-0.512, 73.19]                             NaN   \n",
       "Fare_cat_(73.19, 146.38]                             NaN   \n",
       "Fare_cat_(146.38, 219.57]                            NaN   \n",
       "Fare_cat_(219.57, 292.76]                            NaN   \n",
       "Fare_cat_(292.76, 365.949]                           NaN   \n",
       "Fare_cat_(365.949, 439.139]                          NaN   \n",
       "Fare_cat_(439.139, 512.329]                          NaN   \n",
       "Age_cat_(-0.08, 20.0]                                NaN   \n",
       "Age_cat_(20.0, 40.0]                                 NaN   \n",
       "Age_cat_(40.0, 60.0]                                 NaN   \n",
       "Age_cat_(60.0, 80.0]                                 NaN   \n",
       "\n",
       "                             Fare_cat_(439.139, 512.329]  \\\n",
       "Survived                                        0.077368   \n",
       "Pclass                                         -0.096458   \n",
       "Age                                             0.025993   \n",
       "SibSp                                          -0.029830   \n",
       "Parch                                          -0.003745   \n",
       "Fare                                            0.581047   \n",
       "Sex_female                                     -0.002404   \n",
       "Sex_male                                        0.002404   \n",
       "Fare_cat_(-0.512, 73.19]                       -0.169174   \n",
       "Fare_cat_(73.19, 146.38]                       -0.018068   \n",
       "Fare_cat_(146.38, 219.57]                      -0.008470   \n",
       "Fare_cat_(219.57, 292.76]                      -0.007235   \n",
       "Fare_cat_(292.76, 365.949]                           NaN   \n",
       "Fare_cat_(365.949, 439.139]                          NaN   \n",
       "Fare_cat_(439.139, 512.329]                     1.000000   \n",
       "Age_cat_(-0.08, 20.0]                          -0.030872   \n",
       "Age_cat_(20.0, 40.0]                            0.046942   \n",
       "Age_cat_(40.0, 60.0]                           -0.024849   \n",
       "Age_cat_(60.0, 80.0]                           -0.010061   \n",
       "\n",
       "                             Age_cat_(-0.08, 20.0]  Age_cat_(20.0, 40.0]  \\\n",
       "Survived                                  0.067079             -0.046826   \n",
       "Pclass                                    0.173105              0.101524   \n",
       "Age                                      -0.653357             -0.030000   \n",
       "SibSp                                     0.252943             -0.144299   \n",
       "Parch                                     0.216364             -0.172592   \n",
       "Fare                                     -0.023373             -0.047940   \n",
       "Sex_female                                0.071364             -0.025941   \n",
       "Sex_male                                 -0.071364              0.025941   \n",
       "Fare_cat_(-0.512, 73.19]                  0.036955              0.053554   \n",
       "Fare_cat_(73.19, 146.38]                 -0.045208             -0.051031   \n",
       "Fare_cat_(146.38, 219.57]                -0.000773             -0.027799   \n",
       "Fare_cat_(219.57, 292.76]                 0.020705             -0.020782   \n",
       "Fare_cat_(292.76, 365.949]                     NaN                   NaN   \n",
       "Fare_cat_(365.949, 439.139]                    NaN                   NaN   \n",
       "Fare_cat_(439.139, 512.329]              -0.030872              0.046942   \n",
       "Age_cat_(-0.08, 20.0]                     1.000000             -0.657668   \n",
       "Age_cat_(20.0, 40.0]                     -0.657668              1.000000   \n",
       "Age_cat_(40.0, 60.0]                     -0.204057             -0.529352   \n",
       "Age_cat_(60.0, 80.0]                     -0.082617             -0.214320   \n",
       "\n",
       "                             Age_cat_(40.0, 60.0]  Age_cat_(60.0, 80.0]  \n",
       "Survived                                 0.010376             -0.049777  \n",
       "Pclass                                  -0.277728             -0.136808  \n",
       "Age                                      0.585863              0.456755  \n",
       "SibSp                                   -0.064829             -0.058731  \n",
       "Parch                                   -0.001358             -0.019580  \n",
       "Fare                                     0.079298              0.030819  \n",
       "Sex_female                              -0.013387             -0.071871  \n",
       "Sex_male                                 0.013387              0.071871  \n",
       "Fare_cat_(-0.512, 73.19]                -0.110613             -0.013702  \n",
       "Fare_cat_(73.19, 146.38]                 0.118667              0.009282  \n",
       "Fare_cat_(146.38, 219.57]                0.049842             -0.022667  \n",
       "Fare_cat_(219.57, 292.76]               -0.017005              0.047776  \n",
       "Fare_cat_(292.76, 365.949]                    NaN                   NaN  \n",
       "Fare_cat_(365.949, 439.139]                   NaN                   NaN  \n",
       "Fare_cat_(439.139, 512.329]             -0.024849             -0.010061  \n",
       "Age_cat_(-0.08, 20.0]                   -0.204057             -0.082617  \n",
       "Age_cat_(20.0, 40.0]                    -0.529352             -0.214320  \n",
       "Age_cat_(40.0, 60.0]                     1.000000             -0.066498  \n",
       "Age_cat_(60.0, 80.0]                    -0.066498              1.000000  "
      ]
     },
     "execution_count": 101,
     "metadata": {},
     "output_type": "execute_result"
    }
   ],
   "source": [
    "pd.get_dummies(strat_train).corr()"
   ]
  },
  {
   "cell_type": "markdown",
   "metadata": {},
   "source": [
    "## --> Include Pclass, Fare and Sex into classification"
   ]
  },
  {
   "cell_type": "code",
   "execution_count": 102,
   "metadata": {},
   "outputs": [],
   "source": [
    "#strat_train.drop([\"Age\"], inplace=True, axis=1)"
   ]
  },
  {
   "cell_type": "markdown",
   "metadata": {},
   "source": [
    "# Inspect further"
   ]
  },
  {
   "cell_type": "code",
   "execution_count": 103,
   "metadata": {},
   "outputs": [
    {
     "data": {
      "text/plain": [
       "<matplotlib.axes._subplots.AxesSubplot at 0x7f565dda5cd0>"
      ]
     },
     "execution_count": 103,
     "metadata": {},
     "output_type": "execute_result"
    },
    {
     "data": {
      "image/png": "[encoded data removed]",
      "text/plain": [
       "<Figure size 360x360 with 2 Axes>"
      ]
     },
     "metadata": {},
     "output_type": "display_data"
    }
   ],
   "source": [
    "fig, ax = plt.subplots(1, 2, sharey=True, figsize = (5,5))\n",
    "sns.countplot(x=\"Survived\", data=strat_train, ax = ax[0], palette = \"RdGy\")\n",
    "sns.countplot(x=\"Survived\", hue=\"Sex\", data=strat_train, ax = ax[0], palette = \"BuPu\")\n",
    "sns.countplot(x=\"Survived\", data=strat_train, ax = ax[1], palette = \"RdGy\")\n",
    "sns.countplot(x=\"Survived\", hue=\"Pclass\", data=strat_train, ax = ax[1], palette=\"cividis\")"
   ]
  },
  {
   "cell_type": "code",
   "execution_count": 104,
   "metadata": {},
   "outputs": [
    {
     "data": {
      "text/plain": [
       "<seaborn.axisgrid.FacetGrid at 0x7f565dd830d0>"
      ]
     },
     "execution_count": 104,
     "metadata": {},
     "output_type": "execute_result"
    },
    {
     "data": {
      "image/png": "[encoded data removed]",
      "text/plain": [
       "<Figure size 432x648 with 6 Axes>"
      ]
     },
     "metadata": {},
     "output_type": "display_data"
    }
   ],
   "source": [
    "g = sns.FacetGrid(col=\"Sex\", row=\"Pclass\", data=strat_train)\n",
    "g.map_dataframe(sns.countplot, \"Survived\")"
   ]
  },
  {
   "cell_type": "markdown",
   "metadata": {},
   "source": [
    "# Labels"
   ]
  },
  {
   "cell_type": "code",
   "execution_count": 105,
   "metadata": {},
   "outputs": [],
   "source": [
    "titanic_labels = titanic[\"Survived\"].astype(int)\n",
    "strat_train_labels = strat_train[\"Survived\"].astype(int)\n",
    "strat_devtest_labels = strat_devtest[\"Survived\"].astype(int)\n",
    "strat_train.drop(\"Survived\", inplace=True, axis=1)\n",
    "strat_devtest.drop(\"Survived\", inplace=True, axis=1)"
   ]
  },
  {
   "cell_type": "markdown",
   "metadata": {},
   "source": [
    "# Consider Models"
   ]
  },
  {
   "cell_type": "markdown",
   "metadata": {},
   "source": [
    "## Coarse try"
   ]
  },
  {
   "cell_type": "code",
   "execution_count": 106,
   "metadata": {},
   "outputs": [],
   "source": [
    "# lin_reg_pip.fit(strat_train, strat_train_labels)\n",
    "# pred = lin_reg_pip.predict(strat_train)\n",
    "# accuracy_score(strat_train_labels, pred)"
   ]
  },
  {
   "cell_type": "code",
   "execution_count": 107,
   "metadata": {},
   "outputs": [
    {
     "data": {
      "text/plain": [
       "0.8077403245942572"
      ]
     },
     "execution_count": 107,
     "metadata": {},
     "output_type": "execute_result"
    }
   ],
   "source": [
    "log_reg_pip.fit(strat_train, strat_train_labels)\n",
    "pred = log_reg_pip.predict(strat_train)\n",
    "accuracy_score(strat_train_labels, pred)"
   ]
  },
  {
   "cell_type": "code",
   "execution_count": 108,
   "metadata": {},
   "outputs": [
    {
     "data": {
      "text/plain": [
       "0.784019975031211"
      ]
     },
     "execution_count": 108,
     "metadata": {},
     "output_type": "execute_result"
    }
   ],
   "source": [
    "sgd_clf_pip.fit(strat_train, strat_train_labels)\n",
    "pred = sgd_clf_pip.predict(strat_train)\n",
    "accuracy_score(strat_train_labels, pred)"
   ]
  },
  {
   "cell_type": "code",
   "execution_count": 109,
   "metadata": {},
   "outputs": [
    {
     "data": {
      "text/plain": [
       "0.982521847690387"
      ]
     },
     "execution_count": 109,
     "metadata": {},
     "output_type": "execute_result"
    }
   ],
   "source": [
    "rndforest_clf_pip.fit(strat_train, strat_train_labels)\n",
    "pred = rndforest_clf_pip.predict(strat_train)\n",
    "accuracy_score(strat_train_labels, pred)"
   ]
  },
  {
   "cell_type": "code",
   "execution_count": 110,
   "metadata": {},
   "outputs": [
    {
     "data": {
      "text/plain": [
       "0.982521847690387"
      ]
     },
     "execution_count": 110,
     "metadata": {},
     "output_type": "execute_result"
    }
   ],
   "source": [
    "dectree_clf_pip.fit(strat_train, strat_train_labels)\n",
    "pred = dectree_clf_pip.predict(strat_train)\n",
    "accuracy_score(strat_train_labels, pred)"
   ]
  },
  {
   "cell_type": "code",
   "execution_count": 111,
   "metadata": {},
   "outputs": [
    {
     "name": "stderr",
     "output_type": "stream",
     "text": [
      "/home/linuser/.local/lib/python3.7/site-packages/sklearn/svm/_base.py:947: ConvergenceWarning: Liblinear failed to converge, increase the number of iterations.\n",
      "  \"the number of iterations.\", ConvergenceWarning)\n"
     ]
    },
    {
     "data": {
      "text/plain": [
       "0.7915106117353309"
      ]
     },
     "execution_count": 111,
     "metadata": {},
     "output_type": "execute_result"
    }
   ],
   "source": [
    "lin_svc_pip.fit(strat_train, strat_train_labels)\n",
    "pred = lin_svc_pip.predict(strat_train)\n",
    "accuracy_score(strat_train_labels, pred)"
   ]
  },
  {
   "cell_type": "code",
   "execution_count": 112,
   "metadata": {},
   "outputs": [
    {
     "data": {
      "text/plain": [
       "0.8439450686641697"
      ]
     },
     "execution_count": 112,
     "metadata": {},
     "output_type": "execute_result"
    }
   ],
   "source": [
    "svc_pip.fit(strat_train, strat_train_labels)\n",
    "pred = svc_pip.predict(strat_train)\n",
    "\n",
    "accuracy_score(strat_train_labels, pred)"
   ]
  },
  {
   "cell_type": "markdown",
   "metadata": {},
   "source": [
    "# Random Forest"
   ]
  },
  {
   "cell_type": "markdown",
   "metadata": {},
   "source": [
    "## Try various hyper params"
   ]
  },
  {
   "cell_type": "code",
   "execution_count": 113,
   "metadata": {},
   "outputs": [
    {
     "data": {
      "text/plain": [
       "array([0.7962963 , 0.75925926, 0.81481481, 0.81481481, 0.77777778,\n",
       "       0.81481481, 0.90566038, 0.81132075, 0.8490566 , 0.73584906,\n",
       "       0.86792453, 0.83018868, 0.86792453, 0.8490566 , 0.69811321])"
      ]
     },
     "execution_count": 113,
     "metadata": {},
     "output_type": "execute_result"
    }
   ],
   "source": [
    "strat_train_prep = attr_pip.fit_transform(strat_train)\n",
    "rnd_forest = RandomForestClassifier(random_state=42)\n",
    "# don't know if skfold actually makes sense here\n",
    "skfold = StratifiedKFold(n_splits=15)\n",
    "cross_val_score(rnd_forest, strat_train_prep, strat_train_labels, cv = skfold, scoring=\"accuracy\")"
   ]
  },
  {
   "cell_type": "code",
   "execution_count": 114,
   "metadata": {},
   "outputs": [
    {
     "data": {
      "text/plain": [
       "[<matplotlib.lines.Line2D at 0x7f565daf90d0>]"
      ]
     },
     "execution_count": 114,
     "metadata": {},
     "output_type": "execute_result"
    },
    {
     "data": {
      "image/png": "[encoded data removed]",
      "text/plain": [
       "<Figure size 432x288 with 1 Axes>"
      ]
     },
     "metadata": {},
     "output_type": "display_data"
    }
   ],
   "source": [
    "n_estimators_range = np.arange(1,10)\n",
    "train_scores, test_scores = validation_curve(rnd_forest, strat_train_prep, strat_train_labels, param_name=\"n_estimators\", param_range=n_estimators_range, scoring=\"accuracy\", cv = skfold)\n",
    "plt.plot(n_estimators_range, np.mean(train_scores, 1), label=\"train score\", c='b')\n",
    "plt.plot(n_estimators_range, np.mean(test_scores, 1), label=\"test score\", c='r')"
   ]
  },
  {
   "cell_type": "markdown",
   "metadata": {},
   "source": [
    "### ---> Looks like bad overfitting"
   ]
  },
  {
   "cell_type": "code",
   "execution_count": 130,
   "metadata": {},
   "outputs": [],
   "source": [
    "param_grid = [\n",
    "    {\"random_state\" : [42]},\n",
    "    {\"max_features\" : [1,2,3,4]},\n",
    "    {\"max_depth\" : [2,3,4]},\n",
    "    {\"n_estimators\" : [1,2,3,4,5,6,7]},\n",
    "    #{\"n_estimators\" : [100,200]},\n",
    "    {\"min_samples_split\" : [3,4,5,6]},\n",
    "    {\"min_samples_leaf\" : [2,3,4,5,6]},\n",
    "    {\"min_impurity_decrease\" : [0.0, 0.1, 0.2]},\n",
    "    {\"bootstrap\" : [False]},\n",
    "    #{\"warm_start\" : [True, False]}\n",
    "]\n",
    "\n",
    "gridsearch = GridSearchCV(rnd_forest, param_grid = param_grid, cv = skfold, scoring=\"accuracy\", return_train_score=False)\n",
    "gridsearch.fit(strat_train_prep, strat_train_labels)\n",
    "best_rnd_forest = gridsearch.best_estimator_"
   ]
  },
  {
   "cell_type": "code",
   "execution_count": 131,
   "metadata": {},
   "outputs": [
    {
     "data": {
      "text/plain": [
       "0.8333333333333334"
      ]
     },
     "execution_count": 131,
     "metadata": {},
     "output_type": "execute_result"
    }
   ],
   "source": [
    "strat_devtest_prep = attr_pip.fit_transform(strat_devtest)\n",
    "pred = best_rnd_forest.predict(strat_devtest_prep)\n",
    "accuracy_score(strat_devtest_labels, pred)"
   ]
  },
  {
   "cell_type": "code",
   "execution_count": 117,
   "metadata": {},
   "outputs": [
    {
     "data": {
      "text/plain": [
       "[<matplotlib.lines.Line2D at 0x7f565da9de50>]"
      ]
     },
     "execution_count": 117,
     "metadata": {},
     "output_type": "execute_result"
    },
    {
     "data": {
      "image/png": "[encoded data removed]",
      "text/plain": [
       "<Figure size 432x288 with 1 Axes>"
      ]
     },
     "metadata": {},
     "output_type": "display_data"
    }
   ],
   "source": [
    "train_sizes, train_scores, val_scores = learning_curve(best_rnd_forest, X = strat_train_prep, y = strat_train_labels, train_sizes=[0.7, 0.8, 0.85, 0.9, 0.95], cv = skfold)\n",
    "plt.plot(train_sizes, np.mean(train_scores, 1), label=\"train scores\", c = 'b')\n",
    "plt.plot(train_sizes, np.mean(val_scores, 1), label=\"val scores\", c = 'r')"
   ]
  },
  {
   "cell_type": "code",
   "execution_count": 128,
   "metadata": {},
   "outputs": [
    {
     "data": {
      "text/plain": [
       "RandomForestClassifier(bootstrap=True, ccp_alpha=0.0, class_weight=None,\n",
       "                       criterion='gini', max_depth=None, max_features='auto',\n",
       "                       max_leaf_nodes=None, max_samples=None,\n",
       "                       min_impurity_decrease=0.0, min_impurity_split=None,\n",
       "                       min_samples_leaf=3, min_samples_split=2,\n",
       "                       min_weight_fraction_leaf=0.0, n_estimators=100,\n",
       "                       n_jobs=None, oob_score=False, random_state=42, verbose=0,\n",
       "                       warm_start=False)"
      ]
     },
     "execution_count": 128,
     "metadata": {},
     "output_type": "execute_result"
    }
   ],
   "source": [
    "gridsearch.best_estimator_"
   ]
  },
  {
   "cell_type": "markdown",
   "metadata": {},
   "source": [
    "# Polynomial SVC"
   ]
  },
  {
   "cell_type": "code",
   "execution_count": 50,
   "metadata": {},
   "outputs": [],
   "source": [
    "# poly_features = PolynomialFeatures(degree = 3)\n",
    "# train_poly = poly_features.fit_transform(strat_train_prep)\n",
    "# test_poly = poly_features.fit_transform(strat_devtest_prep)\n",
    "\n",
    "# linsvc = LinearSVC(C=5, loss=\"hinge\", max_iter=2000, random_state=42)\n",
    "# linsvc.fit(train_poly, strat_train_labels)\n",
    "# pred = linsvc.predict(test_poly)\n",
    "\n",
    "# accuracy_score(strat_devtest_labels, pred)"
   ]
  },
  {
   "cell_type": "code",
   "execution_count": 51,
   "metadata": {},
   "outputs": [],
   "source": [
    "# C = [5,10]\n",
    "# train_scores, test_scores = validation_curve(linsvc, train_poly, strat_train_labels, param_name=\"C\", param_range=C, scoring=\"accuracy\", cv = skfold)\n",
    "# plt.plot(C, np.mean(train_scores, 1), label=\"train score\", c='b')\n",
    "# plt.plot(C, np.mean(test_scores, 1), label=\"test score\", c='r')\n"
   ]
  },
  {
   "cell_type": "code",
   "execution_count": 118,
   "metadata": {},
   "outputs": [],
   "source": [
    "# svc = SVC(random_state=42, probability=True)"
   ]
  },
  {
   "cell_type": "code",
   "execution_count": 119,
   "metadata": {},
   "outputs": [],
   "source": [
    "# param_grid = [\n",
    "#     {\"random_state\" : [42]},\n",
    "#     {\"C\" : [2,3,4,5,6,7,8,9,10,15]},\n",
    "#     {\"kernel\" : [\"poly\"]},\n",
    "#     {\"degree\" : [1,2,3,4]},\n",
    "#     {\"coef0\" : [1,2,3,4,5,6]}\n",
    "# ]\n",
    "\n",
    "# gridsearch = GridSearchCV(svc, param_grid = param_grid, cv = skfold, scoring=\"accuracy\", return_train_score=False)\n",
    "# gridsearch.fit(strat_train_prep, strat_train_labels)\n",
    "# best_svc = gridsearch.best_estimator_"
   ]
  },
  {
   "cell_type": "code",
   "execution_count": 120,
   "metadata": {},
   "outputs": [],
   "source": [
    "# strat_devtest_prep = attr_pip.fit_transform(strat_devtest)\n",
    "# pred = best_svc.predict(strat_devtest_prep)\n",
    "# accuracy_score(strat_devtest_labels, pred)"
   ]
  },
  {
   "cell_type": "code",
   "execution_count": 121,
   "metadata": {},
   "outputs": [],
   "source": [
    "# best_svc.fit(strat_train_prep, strat_train_labels)\n",
    "# pred = best_svc.predict(strat_train_prep)\n",
    "\n",
    "# accuracy_score(strat_train_labels, pred)"
   ]
  },
  {
   "cell_type": "markdown",
   "metadata": {},
   "source": [
    "# Ensemble"
   ]
  },
  {
   "cell_type": "code",
   "execution_count": 122,
   "metadata": {},
   "outputs": [],
   "source": [
    "# voting_clf = VotingClassifier(\n",
    "#     estimators=[(\"rf\", best_rnd_forest), (\"dt\", best_dec_tree), (\"svc\", best_svc), (\"log\", LogisticRegression())], voting=\"soft\"\n",
    "# )\n",
    "\n",
    "# # voting_clf = VotingClassifier(\n",
    "# #     estimators=[(\"rf\", RandomForestClassifier(random_state=42)), (\"dt\", LogisticRegression()), (\"svc\", SVC(C = 10, probability=True))], voting=\"soft\"\n",
    "# # )\n",
    "\n",
    "\n",
    "# voting_clf.fit(strat_train_prep, strat_train_labels)\n",
    "\n",
    "# pred = voting_clf.predict(strat_devtest_prep)\n",
    "# accuracy_score(strat_devtest_labels, pred)"
   ]
  },
  {
   "cell_type": "code",
   "execution_count": 123,
   "metadata": {},
   "outputs": [],
   "source": [
    "# ada_clf = AdaBoostClassifier(voting_clf, algorithm=\"SAMME.R\", learning_rate=0.5)\n",
    "# ada_clf.fit(strat_train_prep, strat_train_labels)\n",
    "\n",
    "# pred = ada_clf.predict(strat_devtest_prep)\n",
    "# accuracy_score(strat_devtest_labels, pred)"
   ]
  },
  {
   "cell_type": "code",
   "execution_count": 124,
   "metadata": {},
   "outputs": [],
   "source": [
    "# bag_clf = BaggingClassifier(voting_clf, bootstrap=True)\n",
    "\n",
    "# bag_clf.fit(strat_train_prep, strat_train_labels)\n",
    "\n",
    "# pred = bag_clf.predict(strat_devtest_prep)\n",
    "# accuracy_score(strat_devtest_labels, pred)"
   ]
  },
  {
   "cell_type": "markdown",
   "metadata": {},
   "source": [
    "# Predict test set"
   ]
  },
  {
   "cell_type": "code",
   "execution_count": 125,
   "metadata": {},
   "outputs": [],
   "source": [
    "#best_model = RandomForestClassifier(random_state=42)\n",
    "best_model = best_rnd_forest\n",
    "#best_model = ada_clf\n",
    "best_model = voting_clf\n",
    "best_model = best_svc"
   ]
  },
  {
   "cell_type": "code",
   "execution_count": 126,
   "metadata": {},
   "outputs": [
    {
     "data": {
      "text/html": [
       "<div>\n",
       "<style scoped>\n",
       "    .dataframe tbody tr th:only-of-type {\n",
       "        vertical-align: middle;\n",
       "    }\n",
       "\n",
       "    .dataframe tbody tr th {\n",
       "        vertical-align: top;\n",
       "    }\n",
       "\n",
       "    .dataframe thead th {\n",
       "        text-align: right;\n",
       "    }\n",
       "</style>\n",
       "<table border=\"1\" class=\"dataframe\">\n",
       "  <thead>\n",
       "    <tr style=\"text-align: right;\">\n",
       "      <th></th>\n",
       "      <th>Survived</th>\n",
       "    </tr>\n",
       "    <tr>\n",
       "      <th>PassengerId</th>\n",
       "      <th></th>\n",
       "    </tr>\n",
       "  </thead>\n",
       "  <tbody>\n",
       "    <tr>\n",
       "      <th>892</th>\n",
       "      <td>0</td>\n",
       "    </tr>\n",
       "    <tr>\n",
       "      <th>893</th>\n",
       "      <td>1</td>\n",
       "    </tr>\n",
       "    <tr>\n",
       "      <th>894</th>\n",
       "      <td>0</td>\n",
       "    </tr>\n",
       "    <tr>\n",
       "      <th>895</th>\n",
       "      <td>0</td>\n",
       "    </tr>\n",
       "    <tr>\n",
       "      <th>896</th>\n",
       "      <td>0</td>\n",
       "    </tr>\n",
       "    <tr>\n",
       "      <th>...</th>\n",
       "      <td>...</td>\n",
       "    </tr>\n",
       "    <tr>\n",
       "      <th>1305</th>\n",
       "      <td>0</td>\n",
       "    </tr>\n",
       "    <tr>\n",
       "      <th>1306</th>\n",
       "      <td>1</td>\n",
       "    </tr>\n",
       "    <tr>\n",
       "      <th>1307</th>\n",
       "      <td>0</td>\n",
       "    </tr>\n",
       "    <tr>\n",
       "      <th>1308</th>\n",
       "      <td>0</td>\n",
       "    </tr>\n",
       "    <tr>\n",
       "      <th>1309</th>\n",
       "      <td>0</td>\n",
       "    </tr>\n",
       "  </tbody>\n",
       "</table>\n",
       "<p>418 rows × 1 columns</p>\n",
       "</div>"
      ],
      "text/plain": [
       "             Survived\n",
       "PassengerId          \n",
       "892                 0\n",
       "893                 1\n",
       "894                 0\n",
       "895                 0\n",
       "896                 0\n",
       "...               ...\n",
       "1305                0\n",
       "1306                1\n",
       "1307                0\n",
       "1308                0\n",
       "1309                0\n",
       "\n",
       "[418 rows x 1 columns]"
      ]
     },
     "execution_count": 126,
     "metadata": {},
     "output_type": "execute_result"
    }
   ],
   "source": [
    "full_train = titanic.drop(\"Survived\", axis=1)\n",
    "full_train_prep = attr_pip.fit_transform(full_train)\n",
    "best_model.fit(full_train_prep, titanic_labels)\n",
    "\n",
    "test = pd.read_csv(\"test.csv\")\n",
    "test_prep = attr_pip.fit_transform(test)\n",
    "titanic_prep = attr_pip.fit_transform(titanic)\n",
    "\n",
    "#sgd_clf.fit(titanic_prep, titanic_labels)\n",
    "#survival_pred = sgd_clf.predict(test_prep)\n",
    "\n",
    "survival_pred = best_model.predict(test_prep)\n",
    "\n",
    "survival_pred = pd.DataFrame(survival_pred, columns=[\"Survived\"])\n",
    "\n",
    "id_survival = pd.concat([test.PassengerId, survival_pred], axis=1)\n",
    "id_survival.set_index(\"PassengerId\", inplace=True)\n",
    "id_survival.to_csv(\"predicition.csv\")\n",
    "id_survival"
   ]
  }
 ],
 "metadata": {
  "kernelspec": {
   "display_name": "Python 3",
   "language": "python",
   "name": "python3"
  },
  "language_info": {
   "codemirror_mode": {
    "name": "ipython",
    "version": 3
   },
   "file_extension": ".py",
   "mimetype": "text/x-python",
   "name": "python",
   "nbconvert_exporter": "python",
   "pygments_lexer": "ipython3",
   "version": "3.7.4"
  }
 },
 "nbformat": 4,
 "nbformat_minor": 4
}
