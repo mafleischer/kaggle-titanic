{
 "cells": [
  {
   "cell_type": "markdown",
   "metadata": {},
   "source": [
    "# Titanic rnd forest"
   ]
  },
  {
   "cell_type": "code",
   "execution_count": 23,
   "metadata": {},
   "outputs": [],
   "source": [
    "import numpy as np\n",
    "import matplotlib as mpl\n",
    "import matplotlib.pyplot as plt\n",
    "import seaborn as sns\n",
    "import pandas as pd\n",
    "import os\n",
    "\n",
    "from sklearn.base import BaseEstimator, TransformerMixin\n",
    "from sklearn.linear_model import LinearRegression, SGDClassifier, LogisticRegression\n",
    "from sklearn.svm import LinearSVC, SVC\n",
    "from sklearn.tree import DecisionTreeClassifier\n",
    "from sklearn.ensemble import RandomForestClassifier, VotingClassifier, AdaBoostClassifier, GradientBoostingClassifier, BaggingClassifier\n",
    "from sklearn.decomposition import PCA, TruncatedSVD\n",
    "from sklearn.model_selection import StratifiedShuffleSplit, StratifiedKFold, cross_val_score, cross_val_predict ,GridSearchCV\n",
    "from sklearn.model_selection import validation_curve, learning_curve\n",
    "from sklearn.preprocessing import OneHotEncoder, LabelEncoder, StandardScaler, PolynomialFeatures\n",
    "from sklearn.impute import SimpleImputer, KNNImputer\n",
    "from sklearn.compose import ColumnTransformer\n",
    "from sklearn.pipeline import make_pipeline, Pipeline\n",
    "from sklearn.metrics import mean_squared_error, accuracy_score, confusion_matrix, precision_recall_curve, plot_precision_recall_curve\n",
    "from sklearn.metrics import precision_score, recall_score, roc_curve, roc_auc_score\n",
    "\n",
    "sns.set()\n",
    "\n",
    "# This checks if the notebook is executed on Kaggle or on your local machine and\n",
    "# acts accordingly with filenames.\n",
    "fname_train = \"train.csv\"\n",
    "fname_test = \"test.csv\"\n",
    "\n",
    "try:\n",
    "    os.environ['KAGGLE_DATA_PROXY_TOKEN']\n",
    "except KeyError:\n",
    "    pass\n",
    "else:\n",
    "    dirname = \"/kaggle/input/titanic/\"\n",
    "    fname_train = dirname + fname_train\n",
    "    fname_test = dirname + fname_test"
   ]
  },
  {
   "cell_type": "code",
   "execution_count": 24,
   "metadata": {},
   "outputs": [],
   "source": [
    "titanic = pd.read_csv(fname_train)\n",
    "titanic_orig = titanic\n"
   ]
  },
  {
   "cell_type": "code",
   "execution_count": 25,
   "metadata": {},
   "outputs": [],
   "source": [
    "DROP_COLS = [\"PassengerId\", \"Cabin\", \"SibSp\", \"Parch\",\n",
    "             \"Ticket\", \"Name\", \"Fare\", \"Age\", \"Ticket_group_size\", \"Fare_p_person\"]"
   ]
  },
  {
   "cell_type": "code",
   "execution_count": 47,
   "metadata": {},
   "outputs": [],
   "source": [
    "titanic.loc[61, \"Embarked\"] = \"S\"\n",
    "titanic.loc[829, \"Embarked\"] = \"S\"\n",
    "\n",
    "class CabinLetterOnly(BaseEstimator, TransformerMixin):\n",
    "    def __init__(self):\n",
    "        pass\n",
    "    def fit(self, X, y = None):\n",
    "        return self\n",
    "    def transform(self, X):\n",
    "        df = pd.DataFrame(X, index=titanic_orig.index, columns=titanic_orig.columns)\n",
    "        s_cabin_letters = df.Cabin.str.extract(\"^([A-Z]).*\", expand = False)\n",
    "        return np.c_[df.to_numpy(), s_cabin_letters]\n",
    "\n",
    "cabin_letter_pip = Pipeline([\n",
    "    (\"cabin_letter_pip\", CabinLetterOnly())\n",
    "])\n",
    "\n",
    "titanic = pd.DataFrame(cabin_letter_pip.fit_transform(titanic_orig), index=titanic_orig.index,\n",
    "                       columns = titanic_orig.columns.union(pd.Index([\"Cabin_letter\"]), sort=False))\n",
    "\n",
    "\n",
    "titanic.loc[ (titanic.Pclass == 1) & titanic.Cabin_letter.isna(), \"Cabin_letter\"] = 'C'\n",
    "titanic.loc[ (titanic.Pclass == 2) & titanic.Cabin_letter.isna(), \"Cabin_letter\"] = 'F'\n",
    "titanic.loc[ (titanic.Pclass == 3) & titanic.Cabin_letter.isna(), \"Cabin_letter\"] = 'G'\n",
    "\n",
    "titanic[\"Family_size\"] = titanic_orig.SibSp + titanic_orig.Parch\n",
    "\n",
    "s_ticket_group = titanic.groupby(\"Ticket\").size().rename(\"Ticket_group_size\")\n",
    "titanic = titanic.join(s_ticket_group, on=\"Ticket\", sort=False)\n",
    "\n",
    "titanic[\"Fare_p_person\"] = pd.Series(np.nan)\n",
    "titanic.loc[titanic.Ticket_group_size == 1, \"Fare_p_person\"] = titanic.loc[titanic.Ticket_group_size == 1, \"Fare\"]\n",
    "titanic.loc[(titanic.Ticket_group_size > 1), \"Fare_p_person\"] = \\\n",
    "titanic.loc[(titanic.Ticket_group_size > 1), \"Fare\"] / (titanic.loc[(titanic.Ticket_group_size > 0), \"Ticket_group_size\"])\n",
    "\n",
    "age_round = titanic_orig.Age.dropna().apply(np.floor)\n",
    "titanic = titanic.join(age_round, lsuffix=\"_x\", sort=False)\n",
    "titanic.drop(\"Age_x\", axis=1, inplace=True)\n",
    "\n",
    "\n",
    "knnimputer = KNNImputer(n_neighbors=5, missing_values=np.nan)\n",
    "\n",
    "mask = titanic.Age.notna() & ( (titanic.Fare_p_person < 12) | (titanic.Age < 12) )\n",
    "df_children_or_low_fare = titanic.loc[mask, [\"Family_size\", \"Fare_p_person\", \"Age\"]]\n",
    "knnimputer.fit(df_children_or_low_fare)\n",
    "missing_age_low_fare = titanic.loc[(titanic.Fare_p_person < 12) & titanic.Age.isna()][[\"Family_size\", \"Fare_p_person\", \"Age\"]]\n",
    "imp = knnimputer.transform(missing_age_low_fare)\n",
    "titanic.loc[(titanic.Fare_p_person < 12) & titanic.Age.isna(), \"Age\"] = imp[:, 2]\n",
    "\n",
    "mask = titanic.Age.notna() & (titanic.Fare_p_person >= 12)\n",
    "df_children_or_low_fare = titanic.loc[mask, [\"Family_size\", \"Fare_p_person\", \"Age\"]]\n",
    "knnimputer.fit(df_children_or_low_fare)\n",
    "missing_age_usual_fare = titanic.loc[(titanic.Fare_p_person >= 12) & titanic.Age.isna()][[\"Family_size\", \"Fare_p_person\", \"Age\"]]\n",
    "imp = knnimputer.transform(missing_age_usual_fare)\n",
    "titanic.loc[(titanic.Fare_p_person >= 12) & titanic.Age.isna(), \"Age\"] = imp[:, 2]\n",
    "\n",
    "titanic[\"Fare_cat\"] = pd.cut(titanic.Fare_p_person, bins = [0, 13, 30, 513], include_lowest=True)\n",
    "\n",
    "titanic[\"Age_cat\"] = pd.cut(titanic[\"Age\"].astype(int), bins = [-1, 20, 40, 60, 90])\n",
    "\n",
    "\n",
    "sex_pip = Pipeline([\n",
    "    ('one_hot', OneHotEncoder(categories=[titanic.Sex]))\n",
    "    #('label', LabelEncoder())\n",
    "])\n",
    "\n",
    "fare_cat_pip = Pipeline([\n",
    "    ('fare_std', OneHotEncoder(categories=[titanic.Fare_cat]))\n",
    "])\n",
    "\n",
    "pclass_pip = Pipeline([\n",
    "    ('pclass_std', StandardScaler())\n",
    "])\n",
    "\n",
    "age_cat_pip = Pipeline([\n",
    "    ('age_cat_std', OneHotEncoder(categories=[titanic.Age_cat]))\n",
    "])\n",
    "\n",
    "fsize_pip = Pipeline([\n",
    "    ('fsize_std', StandardScaler())\n",
    "])\n",
    "\n",
    "cabin_pip = Pipeline([\n",
    "    ('cabin_1hot', OneHotEncoder(categories=[titanic.Cabin_letter]))\n",
    "])\n",
    "\n",
    "embarked_pip = Pipeline([\n",
    "    ('one_hot', OneHotEncoder(categories=[titanic.Embarked]))\n",
    "])\n",
    "\n",
    "attr_pip = ColumnTransformer([\n",
    "    (\"pclass\", pclass_pip, [\"Pclass\"]),\n",
    "    (\"sex\", sex_pip, [\"Sex\"]),\n",
    "    (\"fare_cat\", fare_cat_pip, [\"Fare_cat\"]),\n",
    "    (\"age_cat\", age_cat_pip, [\"Age_cat\"]),\n",
    "    (\"fsize\", fsize_pip, [\"Family_size\"]),\n",
    "    (\"cabin\", cabin_pip, [\"Cabin_letter\"]),\n",
    "    (\"embarked\", embarked_pip, [\"Embarked\"])\n",
    "], remainder=\"passthrough\")"
   ]
  },
  {
   "cell_type": "code",
   "execution_count": 27,
   "metadata": {},
   "outputs": [],
   "source": [
    "titanic.drop(DROP_COLS, axis=1, inplace=True)\n",
    "split = StratifiedShuffleSplit(n_splits=1, test_size=0.1, random_state=42)\n",
    "for train_ix, test_ix in split.split(titanic, titanic[\"Survived\"]):\n",
    "    strat_train = titanic.loc[train_ix]\n",
    "    strat_devtest = titanic.loc[test_ix]"
   ]
  },
  {
   "cell_type": "code",
   "execution_count": 28,
   "metadata": {},
   "outputs": [],
   "source": [
    "titanic_labels = titanic[\"Survived\"].astype(int)\n",
    "strat_train_labels = strat_train[\"Survived\"].astype(int)\n",
    "strat_devtest_labels = strat_devtest[\"Survived\"].astype(int)\n",
    "strat_train.drop([\"Survived\"], inplace=True, axis=1)\n",
    "strat_devtest.drop([\"Survived\"], inplace=True, axis=1)"
   ]
  },
  {
   "cell_type": "code",
   "execution_count": 29,
   "metadata": {},
   "outputs": [
    {
     "data": {
      "text/html": [
       "<div>\n",
       "<style scoped>\n",
       "    .dataframe tbody tr th:only-of-type {\n",
       "        vertical-align: middle;\n",
       "    }\n",
       "\n",
       "    .dataframe tbody tr th {\n",
       "        vertical-align: top;\n",
       "    }\n",
       "\n",
       "    .dataframe thead th {\n",
       "        text-align: right;\n",
       "    }\n",
       "</style>\n",
       "<table border=\"1\" class=\"dataframe\">\n",
       "  <thead>\n",
       "    <tr style=\"text-align: right;\">\n",
       "      <th></th>\n",
       "      <th>Pclass</th>\n",
       "      <th>Sex</th>\n",
       "      <th>Embarked</th>\n",
       "      <th>Cabin_letter</th>\n",
       "      <th>Family_size</th>\n",
       "      <th>Fare_cat</th>\n",
       "      <th>Age_cat</th>\n",
       "    </tr>\n",
       "  </thead>\n",
       "  <tbody>\n",
       "    <tr>\n",
       "      <th>86</th>\n",
       "      <td>3</td>\n",
       "      <td>male</td>\n",
       "      <td>S</td>\n",
       "      <td>G</td>\n",
       "      <td>4</td>\n",
       "      <td>(-0.001, 13.0]</td>\n",
       "      <td>(-1, 20]</td>\n",
       "    </tr>\n",
       "    <tr>\n",
       "      <th>329</th>\n",
       "      <td>1</td>\n",
       "      <td>female</td>\n",
       "      <td>C</td>\n",
       "      <td>B</td>\n",
       "      <td>1</td>\n",
       "      <td>(13.0, 30.0]</td>\n",
       "      <td>(-1, 20]</td>\n",
       "    </tr>\n",
       "    <tr>\n",
       "      <th>517</th>\n",
       "      <td>3</td>\n",
       "      <td>male</td>\n",
       "      <td>Q</td>\n",
       "      <td>G</td>\n",
       "      <td>0</td>\n",
       "      <td>(-0.001, 13.0]</td>\n",
       "      <td>(20, 40]</td>\n",
       "    </tr>\n",
       "    <tr>\n",
       "      <th>844</th>\n",
       "      <td>3</td>\n",
       "      <td>male</td>\n",
       "      <td>S</td>\n",
       "      <td>G</td>\n",
       "      <td>0</td>\n",
       "      <td>(-0.001, 13.0]</td>\n",
       "      <td>(-1, 20]</td>\n",
       "    </tr>\n",
       "    <tr>\n",
       "      <th>408</th>\n",
       "      <td>3</td>\n",
       "      <td>male</td>\n",
       "      <td>S</td>\n",
       "      <td>G</td>\n",
       "      <td>0</td>\n",
       "      <td>(-0.001, 13.0]</td>\n",
       "      <td>(20, 40]</td>\n",
       "    </tr>\n",
       "    <tr>\n",
       "      <th>...</th>\n",
       "      <td>...</td>\n",
       "      <td>...</td>\n",
       "      <td>...</td>\n",
       "      <td>...</td>\n",
       "      <td>...</td>\n",
       "      <td>...</td>\n",
       "      <td>...</td>\n",
       "    </tr>\n",
       "    <tr>\n",
       "      <th>141</th>\n",
       "      <td>3</td>\n",
       "      <td>female</td>\n",
       "      <td>S</td>\n",
       "      <td>G</td>\n",
       "      <td>0</td>\n",
       "      <td>(-0.001, 13.0]</td>\n",
       "      <td>(20, 40]</td>\n",
       "    </tr>\n",
       "    <tr>\n",
       "      <th>736</th>\n",
       "      <td>3</td>\n",
       "      <td>female</td>\n",
       "      <td>S</td>\n",
       "      <td>G</td>\n",
       "      <td>4</td>\n",
       "      <td>(-0.001, 13.0]</td>\n",
       "      <td>(40, 60]</td>\n",
       "    </tr>\n",
       "    <tr>\n",
       "      <th>462</th>\n",
       "      <td>1</td>\n",
       "      <td>male</td>\n",
       "      <td>S</td>\n",
       "      <td>E</td>\n",
       "      <td>0</td>\n",
       "      <td>(30.0, 513.0]</td>\n",
       "      <td>(40, 60]</td>\n",
       "    </tr>\n",
       "    <tr>\n",
       "      <th>526</th>\n",
       "      <td>2</td>\n",
       "      <td>female</td>\n",
       "      <td>S</td>\n",
       "      <td>F</td>\n",
       "      <td>0</td>\n",
       "      <td>(-0.001, 13.0]</td>\n",
       "      <td>(40, 60]</td>\n",
       "    </tr>\n",
       "    <tr>\n",
       "      <th>307</th>\n",
       "      <td>1</td>\n",
       "      <td>female</td>\n",
       "      <td>C</td>\n",
       "      <td>C</td>\n",
       "      <td>1</td>\n",
       "      <td>(30.0, 513.0]</td>\n",
       "      <td>(-1, 20]</td>\n",
       "    </tr>\n",
       "  </tbody>\n",
       "</table>\n",
       "<p>801 rows × 7 columns</p>\n",
       "</div>"
      ],
      "text/plain": [
       "    Pclass     Sex Embarked Cabin_letter  Family_size        Fare_cat  \\\n",
       "86       3    male        S            G            4  (-0.001, 13.0]   \n",
       "329      1  female        C            B            1    (13.0, 30.0]   \n",
       "517      3    male        Q            G            0  (-0.001, 13.0]   \n",
       "844      3    male        S            G            0  (-0.001, 13.0]   \n",
       "408      3    male        S            G            0  (-0.001, 13.0]   \n",
       "..     ...     ...      ...          ...          ...             ...   \n",
       "141      3  female        S            G            0  (-0.001, 13.0]   \n",
       "736      3  female        S            G            4  (-0.001, 13.0]   \n",
       "462      1    male        S            E            0   (30.0, 513.0]   \n",
       "526      2  female        S            F            0  (-0.001, 13.0]   \n",
       "307      1  female        C            C            1   (30.0, 513.0]   \n",
       "\n",
       "      Age_cat  \n",
       "86   (-1, 20]  \n",
       "329  (-1, 20]  \n",
       "517  (20, 40]  \n",
       "844  (-1, 20]  \n",
       "408  (20, 40]  \n",
       "..        ...  \n",
       "141  (20, 40]  \n",
       "736  (40, 60]  \n",
       "462  (40, 60]  \n",
       "526  (40, 60]  \n",
       "307  (-1, 20]  \n",
       "\n",
       "[801 rows x 7 columns]"
      ]
     },
     "execution_count": 29,
     "metadata": {},
     "output_type": "execute_result"
    }
   ],
   "source": [
    "strat_train"
   ]
  },
  {
   "cell_type": "code",
   "execution_count": 30,
   "metadata": {},
   "outputs": [],
   "source": [
    "strat_train_prep = attr_pip.fit_transform(strat_train)\n",
    "strat_devtest_prep = attr_pip.fit_transform(strat_devtest)\n",
    "skfold = StratifiedKFold(n_splits=5)"
   ]
  },
  {
   "cell_type": "code",
   "execution_count": 31,
   "metadata": {},
   "outputs": [
    {
     "data": {
      "text/plain": [
       "array([0.79503106, 0.86875   , 0.74375   , 0.7875    , 0.79375   ])"
      ]
     },
     "execution_count": 31,
     "metadata": {},
     "output_type": "execute_result"
    }
   ],
   "source": [
    "rnd_forest = RandomForestClassifier(random_state=42)\n",
    "# don't know if skfold actually makes sense here\n",
    "cross_val_score(rnd_forest, strat_train_prep, strat_train_labels, cv = skfold, scoring=\"accuracy\")"
   ]
  },
  {
   "cell_type": "code",
   "execution_count": 32,
   "metadata": {},
   "outputs": [
    {
     "data": {
      "text/plain": [
       "[<matplotlib.lines.Line2D at 0x7f93a5750d10>]"
      ]
     },
     "execution_count": 32,
     "metadata": {},
     "output_type": "execute_result"
    },
    {
     "data": {
      "image/png": "[encoded data removed]",
      "text/plain": [
       "<Figure size 432x288 with 1 Axes>"
      ]
     },
     "metadata": {},
     "output_type": "display_data"
    }
   ],
   "source": [
    "n_estimators_range = np.arange(1,10)\n",
    "train_scores, test_scores = validation_curve(rnd_forest, strat_train_prep, strat_train_labels, param_name=\"n_estimators\", param_range=n_estimators_range, scoring=\"accuracy\", cv = skfold)\n",
    "plt.plot(n_estimators_range, np.mean(train_scores, 1), label=\"train score\", c='b')\n",
    "plt.plot(n_estimators_range, np.mean(test_scores, 1), label=\"test score\", c='r')"
   ]
  },
  {
   "cell_type": "code",
   "execution_count": 33,
   "metadata": {},
   "outputs": [],
   "source": [
    "svd_rndforest_pip = Pipeline([\n",
    "    (\"svd\", TruncatedSVD()),\n",
    "    (\"rnd_forest\", RandomForestClassifier(n_jobs=-1))\n",
    "])\n",
    "\n",
    "param_grid = [\n",
    "    {\"svd__n_components\" : [4,5], \"rnd_forest__random_state\" : [42], \"rnd_forest__max_features\" : [3,4,5],\n",
    "     \"rnd_forest__max_depth\" : [3,4,5], \"rnd_forest__n_estimators\" : [100],\n",
    "    \"rnd_forest__min_samples_split\" : [2,3,4], \"rnd_forest__min_samples_leaf\" : [2,3,4]}\n",
    "]\n",
    "\n",
    "param_grid = [\n",
    "    {\"random_state\" : [42], \"max_features\" : [3,4,7], \"max_depth\" : [2,3,4], \"n_estimators\" : [100],\n",
    "    \"min_samples_split\" : [2,3,4], \"min_samples_leaf\" : [2,3,4]}\n",
    "]\n",
    "\n",
    "gridsearch = GridSearchCV(rnd_forest, param_grid = param_grid, cv = skfold, scoring=\"accuracy\", return_train_score=False)\n",
    "#gridsearch = GridSearchCV(svd_rndforest_pip, param_grid = param_grid, cv = skfold, scoring=\"accuracy\", return_train_score=False)\n",
    "gridsearch.fit(strat_train_prep, strat_train_labels)\n",
    "best_rnd_forest = gridsearch.best_estimator_"
   ]
  },
  {
   "cell_type": "code",
   "execution_count": 34,
   "metadata": {},
   "outputs": [
    {
     "data": {
      "text/plain": [
       "RandomForestClassifier(bootstrap=True, ccp_alpha=0.0, class_weight=None,\n",
       "                       criterion='gini', max_depth=4, max_features=7,\n",
       "                       max_leaf_nodes=None, max_samples=None,\n",
       "                       min_impurity_decrease=0.0, min_impurity_split=None,\n",
       "                       min_samples_leaf=4, min_samples_split=2,\n",
       "                       min_weight_fraction_leaf=0.0, n_estimators=100,\n",
       "                       n_jobs=None, oob_score=False, random_state=42, verbose=0,\n",
       "                       warm_start=False)"
      ]
     },
     "execution_count": 34,
     "metadata": {},
     "output_type": "execute_result"
    }
   ],
   "source": [
    "best_rnd_forest"
   ]
  },
  {
   "cell_type": "code",
   "execution_count": 35,
   "metadata": {},
   "outputs": [
    {
     "data": {
      "text/plain": [
       "<matplotlib.axes._subplots.AxesSubplot at 0x7f93a56edf10>"
      ]
     },
     "execution_count": 35,
     "metadata": {},
     "output_type": "execute_result"
    },
    {
     "data": {
      "image/png": "[encoded data removed]",
      "text/plain": [
       "<Figure size 432x288 with 1 Axes>"
      ]
     },
     "metadata": {},
     "output_type": "display_data"
    }
   ],
   "source": [
    "pred_scores = cross_val_predict(best_rnd_forest, strat_train_prep, strat_train_labels, cv = skfold, method=\"predict_proba\")\n",
    "precisions, recalls, thresholds = precision_recall_curve(strat_train_labels, pred_scores[:, 1])\n",
    "\n",
    "sns.lineplot(thresholds, precisions[:-1], color=\"r\")\n",
    "sns.lineplot(thresholds, recalls[:-1], color=\"b\")"
   ]
  },
  {
   "cell_type": "code",
   "execution_count": 36,
   "metadata": {},
   "outputs": [
    {
     "data": {
      "text/plain": [
       "<sklearn.metrics._plot.precision_recall_curve.PrecisionRecallDisplay at 0x7f93a564ea10>"
      ]
     },
     "execution_count": 36,
     "metadata": {},
     "output_type": "execute_result"
    },
    {
     "data": {
      "image/png": "[encoded data removed]",
      "text/plain": [
       "<Figure size 432x288 with 1 Axes>"
      ]
     },
     "metadata": {},
     "output_type": "display_data"
    }
   ],
   "source": [
    "plot_precision_recall_curve(best_rnd_forest, strat_train_prep, strat_train_labels, response_method=\"predict_proba\")"
   ]
  },
  {
   "cell_type": "code",
   "execution_count": 37,
   "metadata": {},
   "outputs": [
    {
     "data": {
      "text/plain": [
       "<matplotlib.axes._subplots.AxesSubplot at 0x7f93a5af2ad0>"
      ]
     },
     "execution_count": 37,
     "metadata": {},
     "output_type": "execute_result"
    },
    {
     "data": {
      "image/png": "[encoded data removed]",
      "text/plain": [
       "<Figure size 432x288 with 1 Axes>"
      ]
     },
     "metadata": {},
     "output_type": "display_data"
    }
   ],
   "source": [
    "pred_scores = cross_val_predict(best_rnd_forest, strat_devtest_prep, strat_devtest_labels, cv = skfold, method=\"predict_proba\")\n",
    "precisions, recalls, thresholds = precision_recall_curve(strat_devtest_labels, pred_scores[:, 1])\n",
    "\n",
    "sns.lineplot(thresholds, precisions[:-1], color=\"r\")\n",
    "sns.lineplot(thresholds, recalls[:-1], color=\"b\")"
   ]
  },
  {
   "cell_type": "code",
   "execution_count": 38,
   "metadata": {},
   "outputs": [
    {
     "data": {
      "text/plain": [
       "array([[54,  1],\n",
       "       [23, 12]])"
      ]
     },
     "execution_count": 38,
     "metadata": {},
     "output_type": "execute_result"
    }
   ],
   "source": [
    "pred = best_rnd_forest.predict(strat_devtest_prep)\n",
    "confusion_matrix(strat_devtest_labels, pred)"
   ]
  },
  {
   "cell_type": "code",
   "execution_count": 39,
   "metadata": {},
   "outputs": [
    {
     "data": {
      "text/plain": [
       "array([[46,  9],\n",
       "       [13, 22]])"
      ]
     },
     "execution_count": 39,
     "metadata": {},
     "output_type": "execute_result"
    }
   ],
   "source": [
    "rnd_forest.fit(strat_train_prep, strat_train_labels)\n",
    "pred = rnd_forest.predict(strat_devtest_prep)\n",
    "confusion_matrix(strat_devtest_labels, pred)"
   ]
  },
  {
   "cell_type": "code",
   "execution_count": 40,
   "metadata": {},
   "outputs": [
    {
     "data": {
      "text/plain": [
       "<matplotlib.axes._subplots.AxesSubplot at 0x7f93a558aa90>"
      ]
     },
     "execution_count": 40,
     "metadata": {},
     "output_type": "execute_result"
    },
    {
     "data": {
      "image/png": "[encoded data removed]",
      "text/plain": [
       "<Figure size 432x288 with 1 Axes>"
      ]
     },
     "metadata": {},
     "output_type": "display_data"
    }
   ],
   "source": [
    "thresh = 0.65\n",
    "custom_thresh_preds = pred_scores > thresh\n",
    "precisions, recalls, thresholds = precision_recall_curve(strat_devtest_labels, custom_thresh_preds[:, 1])\n",
    "\n",
    "sns.lineplot(thresholds, precisions[:-1], color=\"r\")\n",
    "sns.lineplot(thresholds, recalls[:-1], color=\"b\")"
   ]
  },
  {
   "cell_type": "code",
   "execution_count": 41,
   "metadata": {},
   "outputs": [
    {
     "data": {
      "text/plain": [
       "array([[55,  0],\n",
       "       [35,  0]])"
      ]
     },
     "execution_count": 41,
     "metadata": {},
     "output_type": "execute_result"
    }
   ],
   "source": [
    "confusion_matrix(strat_devtest_labels, custom_thresh_preds[:,1])"
   ]
  },
  {
   "cell_type": "code",
   "execution_count": 42,
   "metadata": {},
   "outputs": [
    {
     "data": {
      "text/plain": [
       "RandomForestClassifier(bootstrap=True, ccp_alpha=0.0, class_weight=None,\n",
       "                       criterion='gini', max_depth=4, max_features=7,\n",
       "                       max_leaf_nodes=None, max_samples=None,\n",
       "                       min_impurity_decrease=0.0, min_impurity_split=None,\n",
       "                       min_samples_leaf=4, min_samples_split=2,\n",
       "                       min_weight_fraction_leaf=0.0, n_estimators=100,\n",
       "                       n_jobs=None, oob_score=False, random_state=42, verbose=0,\n",
       "                       warm_start=False)"
      ]
     },
     "execution_count": 42,
     "metadata": {},
     "output_type": "execute_result"
    }
   ],
   "source": [
    "#best_model = RandomForestClassifier(random_state=42)\n",
    "best_model = best_rnd_forest\n",
    "\n",
    "full_train = titanic.drop(\"Survived\", axis=1)\n",
    "full_train_prep = attr_pip.fit_transform(full_train)\n",
    "best_model.fit(full_train_prep, titanic_labels)"
   ]
  },
  {
   "cell_type": "code",
   "execution_count": 49,
   "metadata": {},
   "outputs": [],
   "source": [
    "test = pd.read_csv(fname_test)\n",
    "test_orig = test\n",
    "\n",
    "class CabinLetterTest(BaseEstimator, TransformerMixin):\n",
    "    def __init__(self):\n",
    "        pass\n",
    "    def fit(self, X, y = None):\n",
    "        return self\n",
    "    def transform(self, X):\n",
    "        df = pd.DataFrame(X, index=test.index, columns=test.columns)\n",
    "        s_cabin_letters = df.Cabin.str.extract(\"^([A-Z]).*\", expand = False)\n",
    "        return np.c_[df.to_numpy(), s_cabin_letters]\n",
    "\n",
    "\n",
    "cabin_letter_pip = Pipeline([\n",
    "    (\"cabin_letter_pip\", CabinLetterTest())\n",
    "])\n",
    "\n",
    "test = pd.DataFrame(cabin_letter_pip.fit_transform(test), index=test.index,\n",
    "                       columns = test.columns.union(pd.Index([\"Cabin_letter\"]), sort=False))\n",
    "test.loc[ (test.Pclass == 1) & test.Cabin_letter.isna(), \"Cabin_letter\"] = 'C'\n",
    "test.loc[ (test.Pclass == 2) & test.Cabin_letter.isna(), \"Cabin_letter\"] = 'F'\n",
    "test.loc[ (test.Pclass == 3) & test.Cabin_letter.isna(), \"Cabin_letter\"] = 'G'\n",
    "\n",
    "test[\"Family_size\"] = test.SibSp + test.Parch\n",
    "\n",
    "s_ticket_group = test.groupby(\"Ticket\").size().rename(\"Ticket_group_size\")\n",
    "test = test.join(s_ticket_group, on=\"Ticket\", sort=False)\n",
    "\n",
    "test[\"Fare_p_person\"] = pd.Series(np.nan)\n",
    "test.loc[test.Ticket_group_size == 1, \"Fare_p_person\"] = test.loc[test.Ticket_group_size == 1, \"Fare\"]\n",
    "test.loc[(test.Ticket_group_size > 1), \"Fare_p_person\"] = \\\n",
    "    test.loc[(test.Ticket_group_size > 1), \"Fare\"] / (test.loc[(test.Ticket_group_size > 0), \"Ticket_group_size\"])\n",
    "\n",
    "test.loc[152, \"Fare_p_person\"] = 12.0\n",
    "\n",
    "age_round = test.Age.dropna().apply(np.floor)\n",
    "test = test.join(age_round, lsuffix=\"_x\", sort=False)\n",
    "test.drop(\"Age_x\", axis=1, inplace=True)\n",
    "\n",
    "knnimputer = KNNImputer(n_neighbors=5, missing_values=np.nan)\n",
    "\n",
    "mask = test.Age.notna() & ( (test.Fare_p_person < 12) | (test.Age < 12) )\n",
    "df_children_or_low_fare = test.loc[mask, [\"Family_size\", \"Fare_p_person\", \"Age\"]]\n",
    "knnimputer.fit(df_children_or_low_fare)\n",
    "missing_age_low_fare = test.loc[(test.Fare_p_person < 12) & test.Age.isna()][[\"Family_size\", \"Fare_p_person\", \"Age\"]]\n",
    "imp = knnimputer.transform(missing_age_low_fare)\n",
    "test.loc[(test.Fare_p_person < 12) & test.Age.isna(), \"Age\"] = imp[:, 2]\n",
    "\n",
    "mask = test.Age.notna() & (test.Fare_p_person >= 12)\n",
    "df_children_or_low_fare = test.loc[mask, [\"Family_size\", \"Fare_p_person\", \"Age\"]]\n",
    "knnimputer.fit(df_children_or_low_fare)\n",
    "missing_age_usual_fare = test.loc[(test.Fare_p_person >= 12) & test.Age.isna()][[\"Family_size\", \"Fare_p_person\", \"Age\"]]\n",
    "imp = knnimputer.transform(missing_age_usual_fare)\n",
    "test.loc[(test.Fare_p_person >= 12) & test.Age.isna(), \"Age\"] = imp[:, 2]\n",
    "\n",
    "test[\"Fare_cat\"] = pd.cut(test.Fare_p_person, bins = [0, 13, 30, 513], include_lowest=True)\n",
    "\n",
    "test[\"Age_cat\"] = pd.cut(test[\"Age\"].astype(int), bins = [-1, 20, 40, 60, 90])\n",
    "\n",
    "test.drop(DROP_COLS, inplace=True, axis=1)\n"
   ]
  },
  {
   "cell_type": "code",
   "execution_count": 50,
   "metadata": {},
   "outputs": [
    {
     "data": {
      "text/plain": [
       "<418x4457 sparse matrix of type '<class 'numpy.float64'>'\n",
       "\twith 2926 stored elements in Compressed Sparse Row format>"
      ]
     },
     "execution_count": 50,
     "metadata": {},
     "output_type": "execute_result"
    }
   ],
   "source": [
    "test_prep = attr_pip.fit_transform(test)\n",
    "test_prep"
   ]
  },
  {
   "cell_type": "code",
   "execution_count": 59,
   "metadata": {},
   "outputs": [
    {
     "data": {
      "text/plain": [
       "[0      (-0.001, 13.0]\n",
       " 1       (30.0, 513.0]\n",
       " 2      (-0.001, 13.0]\n",
       " 3        (13.0, 30.0]\n",
       " 4      (-0.001, 13.0]\n",
       "             ...      \n",
       " 886    (-0.001, 13.0]\n",
       " 887      (13.0, 30.0]\n",
       " 888    (-0.001, 13.0]\n",
       " 889      (13.0, 30.0]\n",
       " 890    (-0.001, 13.0]\n",
       " Name: Fare_cat, Length: 891, dtype: category\n",
       " Categories (3, interval[float64]): [(-0.001, 13.0] < (13.0, 30.0] < (30.0, 513.0]]]"
      ]
     },
     "execution_count": 59,
     "metadata": {},
     "output_type": "execute_result"
    }
   ],
   "source": [
    "onehot = OneHotEncoder(categories=[titanic.Fare_cat], )\n",
    "onehot.fit_transform(pd.DataFrame({\"Fare_cat\":titanic.Fare_cat}))\n",
    "onehot.categories"
   ]
  },
  {
   "cell_type": "code",
   "execution_count": 51,
   "metadata": {},
   "outputs": [
    {
     "data": {
      "text/html": [
       "<div>\n",
       "<style scoped>\n",
       "    .dataframe tbody tr th:only-of-type {\n",
       "        vertical-align: middle;\n",
       "    }\n",
       "\n",
       "    .dataframe tbody tr th {\n",
       "        vertical-align: top;\n",
       "    }\n",
       "\n",
       "    .dataframe thead th {\n",
       "        text-align: right;\n",
       "    }\n",
       "</style>\n",
       "<table border=\"1\" class=\"dataframe\">\n",
       "  <thead>\n",
       "    <tr style=\"text-align: right;\">\n",
       "      <th></th>\n",
       "      <th>Survived</th>\n",
       "    </tr>\n",
       "    <tr>\n",
       "      <th>PassengerId</th>\n",
       "      <th></th>\n",
       "    </tr>\n",
       "  </thead>\n",
       "  <tbody>\n",
       "    <tr>\n",
       "      <th>892</th>\n",
       "      <td>0</td>\n",
       "    </tr>\n",
       "    <tr>\n",
       "      <th>893</th>\n",
       "      <td>0</td>\n",
       "    </tr>\n",
       "    <tr>\n",
       "      <th>894</th>\n",
       "      <td>0</td>\n",
       "    </tr>\n",
       "    <tr>\n",
       "      <th>895</th>\n",
       "      <td>0</td>\n",
       "    </tr>\n",
       "    <tr>\n",
       "      <th>896</th>\n",
       "      <td>0</td>\n",
       "    </tr>\n",
       "    <tr>\n",
       "      <th>...</th>\n",
       "      <td>...</td>\n",
       "    </tr>\n",
       "    <tr>\n",
       "      <th>1305</th>\n",
       "      <td>0</td>\n",
       "    </tr>\n",
       "    <tr>\n",
       "      <th>1306</th>\n",
       "      <td>1</td>\n",
       "    </tr>\n",
       "    <tr>\n",
       "      <th>1307</th>\n",
       "      <td>0</td>\n",
       "    </tr>\n",
       "    <tr>\n",
       "      <th>1308</th>\n",
       "      <td>0</td>\n",
       "    </tr>\n",
       "    <tr>\n",
       "      <th>1309</th>\n",
       "      <td>0</td>\n",
       "    </tr>\n",
       "  </tbody>\n",
       "</table>\n",
       "<p>418 rows × 1 columns</p>\n",
       "</div>"
      ],
      "text/plain": [
       "             Survived\n",
       "PassengerId          \n",
       "892                 0\n",
       "893                 0\n",
       "894                 0\n",
       "895                 0\n",
       "896                 0\n",
       "...               ...\n",
       "1305                0\n",
       "1306                1\n",
       "1307                0\n",
       "1308                0\n",
       "1309                0\n",
       "\n",
       "[418 rows x 1 columns]"
      ]
     },
     "execution_count": 51,
     "metadata": {},
     "output_type": "execute_result"
    }
   ],
   "source": [
    "# sex_pip = Pipeline([\n",
    "#     ('one_hot', OneHotEncoder(categories=[test.Sex]))\n",
    "#     #('label', LabelEncoder())\n",
    "# ])\n",
    "\n",
    "# fare_cat_pip = Pipeline([\n",
    "#     ('fare_std', OneHotEncoder(categories=[test.Fare_cat]))\n",
    "# ])\n",
    "\n",
    "# age_cat_pip = Pipeline([\n",
    "#     ('age_cat_std', OneHotEncoder(categories=[test.Age_cat]))\n",
    "# ])\n",
    "\n",
    "# cabin_pip = Pipeline([\n",
    "#     ('cabin_1hot', OneHotEncoder(categories=[titanic.Cabin_letter]))\n",
    "# ])\n",
    "\n",
    "# embarked_pip = Pipeline([\n",
    "#     ('one_hot', OneHotEncoder(categories=[titanic.Embarked]))\n",
    "# ])\n",
    "\n",
    "# attr_pip = ColumnTransformer([\n",
    "#     (\"pclass\", pclass_pip, [\"Pclass\"]),\n",
    "#     (\"sex\", sex_pip, [\"Sex\"]),\n",
    "#     (\"fare_cat\", fare_cat_pip, [\"Fare_cat\"]),\n",
    "#     (\"age_cat\", age_cat_pip, [\"Age_cat\"]),\n",
    "#     (\"fsize\", fsize_pip, [\"Family_size\"]),\n",
    "#     (\"cabin\", cabin_pip, [\"Cabin_letter\"]),\n",
    "#     (\"embarked\", embarked_pip, [\"Embarked\"])\n",
    "# ], remainder=\"passthrough\")\n",
    "\n",
    "test_prep = attr_pip.fit_transform(test)\n",
    "\n",
    "#titanic_prep = attr_pip.fit_transform(titanic)\n",
    "\n",
    "#sgd_clf.fit(titanic_prep, titanic_labels)\n",
    "#survival_pred = sgd_clf.predict(test_prep)\n",
    "\n",
    "survival_pred = best_model.predict(test_prep)\n",
    "\n",
    "\n",
    "# survival_proba = best_model.predict_proba(test_prep)\n",
    "# survival_pred = survival_proba > thresh\n",
    "# survival_pred = survival_pred[:, 1].astype(int)\n",
    "\n",
    "\n",
    "survival_pred = pd.DataFrame(survival_pred, columns=[\"Survived\"])\n",
    "\n",
    "id_survival = pd.concat([test_orig.PassengerId, survival_pred], axis=1)\n",
    "id_survival.set_index(\"PassengerId\", inplace=True)\n",
    "id_survival.to_csv(\"predicition.csv\")\n",
    "id_survival"
   ]
  }
 ],
 "metadata": {
  "kernelspec": {
   "display_name": "Python 3",
   "language": "python",
   "name": "python3"
  },
  "language_info": {
   "codemirror_mode": {
    "name": "ipython",
    "version": 3
   },
   "file_extension": ".py",
   "mimetype": "text/x-python",
   "name": "python",
   "nbconvert_exporter": "python",
   "pygments_lexer": "ipython3",
   "version": "3.7.4"
  }
 },
 "nbformat": 4,
 "nbformat_minor": 4
}
